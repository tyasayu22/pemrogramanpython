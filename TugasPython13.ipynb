{
  "nbformat": 4,
  "nbformat_minor": 0,
  "metadata": {
    "colab": {
      "name": "Copy of Untitled5.ipynb",
      "provenance": [],
      "include_colab_link": true
    },
    "kernelspec": {
      "name": "python3",
      "display_name": "Python 3"
    }
  },
  "cells": [
    {
      "cell_type": "markdown",
      "metadata": {
        "id": "view-in-github",
        "colab_type": "text"
      },
      "source": [
        "<a href=\"https://colab.research.google.com/github/tyasayu22/pemrogramanpython/blob/main/TugasPython13.ipynb\" target=\"_parent\"><img src=\"https://colab.research.google.com/assets/colab-badge.svg\" alt=\"Open In Colab\"/></a>"
      ]
    },
    {
      "cell_type": "code",
      "metadata": {
        "id": "4XUyzaXShkar"
      },
      "source": [
        "import numpy as np\r\n",
        "import matplotlib.pyplot as plt"
      ],
      "execution_count": 1,
      "outputs": []
    },
    {
      "cell_type": "code",
      "metadata": {
        "id": "JAACoF6NiCRj"
      },
      "source": [
        "def cos(frek,tipe,ht,hr,d):\r\n",
        "  #frek = frekuensi (MHz)\r\n",
        "  #tipe = urban, suburban, open\r\n",
        "  #ht = tinggi tower (meter)\r\n",
        "  #hr = tinggi user (meter)\r\n",
        "  #d = jarak (meter)\r\n",
        "    if frek in range(150,1501):\r\n",
        "        Ca=69.55\r\n",
        "        Cb=26.16\r\n",
        "    elif frek in range(1501,2001):\r\n",
        "        Ca=46.3\r\n",
        "        Cb=33.9\r\n",
        "    \r\n",
        "    if tipe=='urban' :\r\n",
        "        Cm=0\r\n",
        "    elif tipe=='suburban' :\r\n",
        "        Cm= -2*((np.log10((frek/28)**2))-5.4)\r\n",
        "    elif tipe=='open' :\r\n",
        "        Cm= -4.78*(np.log10(frek))+18.33*(np.log10(frek))-40.94\r\n",
        "    else :\r\n",
        "        Cm='tipe salah'\r\n",
        "    \r\n",
        "    ahr = (1.1*np.log10(frek)-0.7)*hr-(1.56*np.log10(frek)-1.8)\r\n",
        "    Lp = Ca+(Cb*np.log10(frek))-(13.83*np.log(ht))-ahr+((44.9-6.55*np.log10(ht))*np.log10(d))-Cm\r\n",
        "    \r\n",
        "    return Lp"
      ],
      "execution_count": 2,
      "outputs": []
    },
    {
      "cell_type": "code",
      "metadata": {
        "id": "PgKkZBTbiK9y"
      },
      "source": [
        "f=1800 #MHz\r\n",
        "loc='urban'\r\n",
        "tower=80 #m\r\n",
        "user=1.5 #m\r\n",
        "dmin=200 #m\r\n",
        "dmax=700 #m\r\n",
        "N=200 #titik\r\n",
        "d=np.random.randint(dmin,dmax,N)"
      ],
      "execution_count": 3,
      "outputs": []
    },
    {
      "cell_type": "code",
      "metadata": {
        "colab": {
          "base_uri": "https://localhost:8080/"
        },
        "id": "pC7Fks3eiOIy",
        "outputId": "95cd2843-de45-43a0-afa1-6488fdc862d5"
      },
      "source": [
        "print(d)"
      ],
      "execution_count": 4,
      "outputs": [
        {
          "output_type": "stream",
          "text": [
            "[378 461 583 427 384 689 255 547 270 602 202 302 681 302 410 471 218 444\n",
            " 655 569 392 567 593 237 642 440 397 466 608 663 479 606 321 246 319 333\n",
            " 251 622 593 230 334 220 582 436 540 676 645 369 314 545 536 385 440 231\n",
            " 240 231 500 571 614 438 546 322 202 630 226 448 683 563 652 244 246 480\n",
            " 299 465 605 579 595 280 597 269 615 387 696 313 470 344 407 336 495 694\n",
            " 419 598 283 275 666 529 641 278 590 490 590 688 560 360 663 591 248 564\n",
            " 321 242 572 317 337 318 485 334 634 428 292 690 362 228 368 643 202 318\n",
            " 694 674 388 590 371 334 360 418 267 389 653 342 291 262 387 413 324 699\n",
            " 493 434 566 309 546 321 267 469 433 553 344 491 407 399 437 660 652 628\n",
            " 271 458 651 692 301 327 549 695 275 481 639 484 477 341 287 629 445 685\n",
            " 460 383 625 443 268 348 638 229 419 264 533 203 503 343 357 521 537 357\n",
            " 668 427]\n"
          ],
          "name": "stdout"
        }
      ]
    },
    {
      "cell_type": "code",
      "metadata": {
        "id": "ALcvgZgDiSjF"
      },
      "source": [
        "LpUrban=cos(f,loc,tower,user,d)"
      ],
      "execution_count": 5,
      "outputs": []
    },
    {
      "cell_type": "code",
      "metadata": {
        "colab": {
          "base_uri": "https://localhost:8080/"
        },
        "id": "6fGo3U-qiUuA",
        "outputId": "b0f0a35b-3839-4866-81bf-f63d4a26a07b"
      },
      "source": [
        "print(LpUrban)"
      ],
      "execution_count": 6,
      "outputs": [
        {
          "output_type": "stream",
          "text": [
            "[178.60766448 181.40383683 184.71113247 180.3246334  178.82949958\n",
            " 187.06429599 173.06288963 183.81329845 173.86803663 185.16288176\n",
            " 169.78085477 175.44576648 186.89978332 175.44576648 179.75235389\n",
            " 181.7061282  170.85461155 180.87456785 186.35144736 184.36874179\n",
            " 179.11994775 184.31914231 184.95070011 172.03172909 186.06906151\n",
            " 180.74708972 179.29848294 181.5557934  185.30258113 186.52245082\n",
            " 181.94337571 185.25616844 176.30522567 172.55674281 176.2171864\n",
            " 176.82220984 172.84017768 185.62325729 184.95070011 171.60941197\n",
            " 176.86444747 170.98325388 184.68695008 180.61844739 183.63187246\n",
            " 186.79597859 186.13473173 178.26822064 175.99465037 183.76170046\n",
            " 183.52714159 178.8661348  180.74708972 171.67052372 172.20891681\n",
            " 171.67052372 182.54778096 184.41816723 185.44090863 180.68291541\n",
            " 183.78752308 176.34903982 169.78085477 185.80327556 171.36227866\n",
            " 181.00090267 186.94109196 184.21941631 186.28678204 172.44175248\n",
            " 172.55674281 181.97275265 175.30513732 181.52553294 185.23290462\n",
            " 184.61415283 184.99812856 174.3803199  185.04539786 173.81576852\n",
            " 185.46383172 178.93912065 187.20668516 175.94971816 181.67618932\n",
            " 177.28000084 179.64890493 176.94854466 182.40620954 187.1661492\n",
            " 180.05821908 185.06897316 174.53044108 174.12650695 186.58604568\n",
            " 183.34196773 186.04710322 174.27934286 184.87925665 182.26320082\n",
            " 184.87925665 187.04383667 184.14415574 177.92039464 186.52245082\n",
            " 184.90311142 172.67080204 184.24441408 176.30522567 172.32581571\n",
            " 184.44281507 176.12859342 176.99040572 176.17295956 182.11872533\n",
            " 176.86444747 185.89242926 180.35758368 174.97143758 187.08472564\n",
            " 177.99843493 171.48638728 178.22999474 186.09098562 169.78085477\n",
            " 176.17295956 187.1661492  186.75424156 178.97547226 184.87925665\n",
            " 178.34436265 176.86444747 177.92039464 180.02456019 173.71064686\n",
            " 179.01173029 186.30837014 177.19786511 174.92311425 173.44435845\n",
            " 178.93912065 179.85504867 176.43626138 187.26727123 182.34918016\n",
            " 180.55368296 184.29427692 175.76854219 183.78752308 176.30522567\n",
            " 173.71064686 181.64618668 180.52118874 183.96696802 177.28000084\n",
            " 182.29191895 179.64890493 179.3692682  180.65071828 186.45856755\n",
            " 186.28678204 185.75848621 173.9201115  181.31186977 186.26516079\n",
            " 187.12549625 175.39904592 176.56608938 183.86470814 187.18643176\n",
            " 174.12650695 182.00206845 186.0030837  182.08965155 181.88443739\n",
            " 177.15661694 174.72814591 185.78089869 180.90625794 186.98227982\n",
            " 181.37324781 178.79276882 185.69103403 180.84280631 173.76330575\n",
            " 177.44284933 185.98102224 171.54803393 180.05821908 173.55147864\n",
            " 183.44807925 169.85041658 182.63204584 177.23899284 177.80251748\n",
            " 183.12731614 183.5533974  177.80251748 186.62828331 180.3246334 ]\n"
          ],
          "name": "stdout"
        }
      ]
    },
    {
      "cell_type": "code",
      "metadata": {
        "id": "M3255q4KiXt-"
      },
      "source": [
        "d_sort=d[np.argsort(d)]\r\n",
        "Urban_sort=LpUrban[np.argsort(d)]"
      ],
      "execution_count": 7,
      "outputs": []
    },
    {
      "cell_type": "code",
      "metadata": {
        "id": "ADck0O-PieBX"
      },
      "source": [
        "f=1800 #MHz\r\n",
        "loc='suburban'\r\n",
        "tower=80 #m\r\n",
        "user=1.5 #m\r\n",
        "dmin=200 #m\r\n",
        "dmax=700 #m\r\n",
        "N=200 #titik\r\n",
        "a=np.random.randint(dmin,dmax,N)"
      ],
      "execution_count": 8,
      "outputs": []
    },
    {
      "cell_type": "code",
      "metadata": {
        "colab": {
          "base_uri": "https://localhost:8080/"
        },
        "id": "V0ukKoJOigoQ",
        "outputId": "6d5f1ec8-9d65-47ae-d5d8-942080f45baf"
      },
      "source": [
        "print(a)"
      ],
      "execution_count": 10,
      "outputs": [
        {
          "output_type": "stream",
          "text": [
            "[420 246 567 253 390 357 279 536 584 518 240 286 448 247 667 690 428 584\n",
            " 331 571 336 367 263 200 439 466 301 622 435 516 235 576 552 541 493 540\n",
            " 358 333 672 666 674 543 332 652 590 612 631 271 293 559 469 210 429 231\n",
            " 269 323 630 636 445 364 616 315 390 337 471 249 201 555 402 579 533 438\n",
            " 221 435 693 581 288 209 296 527 648 442 397 581 502 695 353 502 396 394\n",
            " 638 356 576 221 363 436 339 447 261 356 342 674 529 210 272 320 400 668\n",
            " 375 239 271 509 303 205 611 586 682 477 346 544 306 694 223 360 443 224\n",
            " 384 359 320 645 235 456 506 588 571 573 532 483 320 364 511 468 555 508\n",
            " 478 638 382 490 612 401 479 425 635 634 496 519 353 612 634 384 393 209\n",
            " 228 435 631 345 227 321 305 436 504 354 234 371 202 406 312 341 209 637\n",
            " 388 277 236 360 563 284 382 620 403 543 253 431 471 248 424 265 290 308\n",
            " 653 274]\n"
          ],
          "name": "stdout"
        }
      ]
    },
    {
      "cell_type": "code",
      "metadata": {
        "id": "RYEujtHxiicW"
      },
      "source": [
        "Lpsuburban=cos(f,loc,tower,user,a)"
      ],
      "execution_count": 11,
      "outputs": []
    },
    {
      "cell_type": "code",
      "metadata": {
        "colab": {
          "base_uri": "https://localhost:8080/"
        },
        "id": "r_x3pmXuiidH",
        "outputId": "6c395540-c59d-452d-ff25-c81f5d1106e3"
      },
      "source": [
        "print(Lpsuburban)"
      ],
      "execution_count": 12,
      "outputs": [
        {
          "output_type": "stream",
          "text": [
            "[176.52425562 168.98920071 180.7516002  169.3844317  175.48035312\n",
            " 174.23497538 170.76237975 179.95959949 181.16773131 179.47842884\n",
            " 168.6413747  171.11143713 177.43336056 169.04634577 183.03963822\n",
            " 183.51718353 176.79004158 181.16773131 173.16981063 180.85062513\n",
            " 173.38100255 174.62412271 169.93047826 166.07314994 177.147497\n",
            " 177.98825129 171.83150381 182.05571519 177.01856029 179.42393656\n",
            " 168.34481138 180.9734353  180.37393046 180.09039186 178.78163805\n",
            " 180.06433036 174.27437747 173.25466774 183.14483839 183.01850358\n",
            " 183.18669946 180.14237066 173.21230308 182.71923993 181.31171455\n",
            " 181.82740812 182.25807483 170.3525694  171.4520536  180.55143715\n",
            " 178.07864457 166.76041979 176.82291496 168.10298162 170.24822642\n",
            " 172.82517601 182.23573345 182.36925329 177.33871583 174.50850315\n",
            " 181.91917547 172.47189761 175.48035312 173.42286362 178.1385861\n",
            " 169.15994507 166.14340564 180.45027882 175.90724148 181.04661072\n",
            " 179.88053714 177.1153733  167.47959505 177.01856029 183.57829529\n",
            " 181.095184   171.20959946 166.69318225 171.59554792 179.7210686\n",
            " 182.63255512 177.24343089 175.73094083 181.095184   179.03647141\n",
            " 183.61888966 174.07625553 179.03647141 175.69541436 175.62409149\n",
            " 182.41348013 174.19546276 180.9734353  167.47959505 174.46975144\n",
            " 177.05090528 173.50621438 177.40188292 169.82294921 174.19546276\n",
            " 173.630323   183.18669946 179.77442562 166.76041979 170.40445247\n",
            " 172.69373271 175.83698578 183.0607412  174.92788084 168.58255943\n",
            " 170.3525694  179.23153618 171.9247905  166.42097595 181.80437257\n",
            " 181.21588943 183.35291068 178.31689528 173.79411831 180.1682883\n",
            " 172.06357228 183.5986071  167.60649895 174.35285253 177.27526421\n",
            " 167.66952473 175.26195747 174.31366965 172.69373271 182.56718963\n",
            " 168.34481138 177.68268101 179.14826754 181.26388348 180.85062513\n",
            " 180.89987776 179.8540841  178.49297554 172.69373271 174.50850315\n",
            " 179.28677639 178.04857788 180.45027882 179.20383462 178.34639527\n",
            " 182.41348013 175.18839993 178.69565872 181.82740812 175.87215743\n",
            " 178.3758336  176.69095861 182.34708769 182.32488715 178.86709577\n",
            " 179.50559614 174.07625553 181.82740812 182.32488715 175.26195747\n",
            " 175.58829417 166.69318225 167.91884517 177.01856029 182.25807483\n",
            " 173.75334769 167.85692755 172.73768357 172.01746345 177.05090528\n",
            " 179.09248038 174.11610347 168.28474204 174.77682055 166.21331267\n",
            " 176.04671031 172.33710005 173.58907484 166.69318225 182.39138407\n",
            " 175.40793015 170.66103948 168.40462564 174.35285253 180.65187421\n",
            " 171.01258593 175.18839993 182.01034884 175.94223836 180.14237066\n",
            " 169.3844317  176.88843246 178.1385861  169.10325994 176.65777546\n",
            " 170.0371927  171.30708246 172.15533963 182.74082804 170.50764881]\n"
          ],
          "name": "stdout"
        }
      ]
    },
    {
      "cell_type": "code",
      "metadata": {
        "id": "8xnUHbNEimf4"
      },
      "source": [
        "a_sort=a[np.argsort(a)]\r\n",
        "suburban_sort=Lpsuburban[np.argsort(a)]"
      ],
      "execution_count": 13,
      "outputs": []
    },
    {
      "cell_type": "code",
      "metadata": {
        "id": "c97YS0FSioZs"
      },
      "source": [
        "f=1800 #MHz\r\n",
        "loc='open'\r\n",
        "tower=80 #m\r\n",
        "user=1.5 #m\r\n",
        "dmin=200 #m\r\n",
        "dmax=700 #m\r\n",
        "N=200 #titik\r\n",
        "b=np.random.randint(dmin,dmax,N)"
      ],
      "execution_count": 14,
      "outputs": []
    },
    {
      "cell_type": "code",
      "metadata": {
        "colab": {
          "base_uri": "https://localhost:8080/"
        },
        "id": "0SfdHM41iqGL",
        "outputId": "e7d424c6-adaa-4373-98a6-c8dc192570c1"
      },
      "source": [
        "print(b)"
      ],
      "execution_count": 15,
      "outputs": [
        {
          "output_type": "stream",
          "text": [
            "[582 290 217 385 530 478 321 566 376 648 248 475 201 557 426 627 641 388\n",
            " 650 256 586 588 564 396 678 405 617 204 291 211 603 450 233 642 553 223\n",
            " 341 397 249 242 591 384 447 260 203 502 231 591 472 458 450 229 507 418\n",
            " 287 698 200 474 574 636 662 476 655 487 467 321 241 542 384 583 283 281\n",
            " 682 411 459 695 599 558 445 240 564 486 296 402 510 487 677 644 281 290\n",
            " 380 477 657 226 400 296 425 388 392 308 463 576 344 300 601 202 512 437\n",
            " 532 359 487 572 682 652 220 200 638 408 554 310 280 286 462 636 476 245\n",
            " 532 502 589 322 659 367 384 496 682 259 573 203 621 690 284 654 297 486\n",
            " 523 410 565 388 327 331 264 373 217 236 248 587 458 392 681 512 425 293\n",
            " 335 375 561 532 456 569 463 641 357 261 232 646 443 208 681 210 665 335\n",
            " 240 336 363 319 509 226 447 229 383 623 553 533 407 410 389 580 282 387\n",
            " 481 528]\n"
          ],
          "name": "stdout"
        }
      ]
    },
    {
      "cell_type": "code",
      "metadata": {
        "id": "bQykrUS8ir3o"
      },
      "source": [
        "Lpopen=cos(f,loc,tower,user,b)"
      ],
      "execution_count": 16,
      "outputs": []
    },
    {
      "cell_type": "code",
      "metadata": {
        "colab": {
          "base_uri": "https://localhost:8080/"
        },
        "id": "mVfiv7opivH-",
        "outputId": "014c6984-4d56-4827-9083-8c9a571ae337"
      },
      "source": [
        "print(Lpopen)"
      ],
      "execution_count": 17,
      "outputs": [
        {
          "output_type": "stream",
          "text": [
            "[181.51800764 171.70568212 167.62090468 175.69719236 180.19962819\n",
            " 178.74499493 173.13628323 181.12533448 175.36399381 183.03115478\n",
            " 169.5018596  178.65630898 166.5420053  180.89954845 177.12266342\n",
            " 182.56709558 182.87816078 175.80652981 183.07456387 169.9490793\n",
            " 181.6144891  181.66248314 181.07547164 176.09401402 183.66864988\n",
            " 176.41057201 182.34062386 166.75069412 171.7541718  167.22593757\n",
            " 182.01731897 177.89470526 168.62301511 182.90011907 180.79802558\n",
            " 168.00509861 173.9876745  176.12954049 169.55854473 169.15687327\n",
            " 181.73416898 175.66055713 177.80048259 170.16747496 166.68147414\n",
            " 179.43507107 168.50158128 181.73416898 178.56706114 178.14292732\n",
            " 177.89470526 168.37909149 179.57467814 176.85561775 171.55920346\n",
            " 184.07816237 166.4717496  178.62662249 181.3230393  182.76785295\n",
            " 183.33224613 178.68593305 183.18250491 179.00775102 178.41704654\n",
            " 173.13628323 169.09854508 180.51500489 175.66055713 181.54219003\n",
            " 171.36149864 171.26159583 183.75151034 176.6177263  178.17364977\n",
            " 184.01748932 181.92356662 180.92481525 177.7373155  169.03997436\n",
            " 181.07547164 178.97879677 171.99414758 176.30584114 179.65778303\n",
            " 179.00775102 183.64785838 182.94393321 171.26159583 171.70568212\n",
            " 175.51305591 178.71549494 183.22545079 168.19333621 176.23558544\n",
            " 171.99414758 177.08955827 175.80652981 175.95100531 172.55393929\n",
            " 178.29587386 181.37203496 174.11105839 172.18322743 181.97052079\n",
            " 166.61191233 179.71291514 177.48177583 180.25268377 174.71226931\n",
            " 179.00775102 181.27387263 183.75151034 183.11783959 167.81431144\n",
            " 166.4717496  182.81207979 176.51452995 180.82347498 172.64511267\n",
            " 171.21137746 171.51003679 178.26541712 182.76785295 178.68593305\n",
            " 169.33042254 180.25268377 179.43507107 181.68641898 173.18009738\n",
            " 183.26826614 175.02272237 175.66055713 179.26569543 183.75151034\n",
            " 170.11319266 181.29847742 166.68147414 182.43164994 183.91578319\n",
            " 171.41118559 183.16098277 172.04165601 178.97879677 180.01234402\n",
            " 176.58341145 181.10042512 175.80652981 173.39714693 173.56841029\n",
            " 170.3825362  175.25115285 167.62090468 168.8032253  169.5018596\n",
            " 181.63850656 178.14292732 175.95100531 183.73084087 179.71291514\n",
            " 177.08955827 171.85065326 173.73761638 175.3264805  181.00034486\n",
            " 180.25268377 178.08128067 181.19979934 178.29587386 182.87816078\n",
            " 174.63357504 170.22154887 168.56242905 182.98761151 177.67386387\n",
            " 167.02422189 183.73084087 167.15901945 183.39593684 173.73761638\n",
            " 169.03997436 173.77960221 174.8683511  173.04824396 179.63013584\n",
            " 168.19333621 177.80048259 168.37909149 175.62382637 182.47694335\n",
            " 180.79802558 180.2791368  176.47996248 176.58341145 175.84278784\n",
            " 181.46951796 171.3116358  175.77017821 178.833126   180.14637203]\n"
          ],
          "name": "stdout"
        }
      ]
    },
    {
      "cell_type": "code",
      "metadata": {
        "id": "nk24cG3Giyyw"
      },
      "source": [
        "b_sort=b[np.argsort(b)]\r\n",
        "open_sort=Lpopen[np.argsort(b)]"
      ],
      "execution_count": 18,
      "outputs": []
    },
    {
      "cell_type": "code",
      "metadata": {
        "colab": {
          "base_uri": "https://localhost:8080/",
          "height": 295
        },
        "id": "uPSwDBmgi1sD",
        "outputId": "272996b0-cc0f-4fff-f7e9-303b9c7cbe71"
      },
      "source": [
        "plt.figure()\r\n",
        "plt.plot(d_sort,Urban_sort, label='Urban')\r\n",
        "plt.plot(b_sort,open_sort, label='Open')\r\n",
        "plt.plot(a_sort,suburban_sort, label='Suburban')\r\n",
        "plt.legend()\r\n",
        "plt.title('FREKUENSI 1800 MHZ (GAMBAR CONTOH)')\r\n",
        "plt.xlabel('Jarak (m)')\r\n",
        "plt.ylabel('Path Loss (dB)')\r\n",
        "plt.show()"
      ],
      "execution_count": 19,
      "outputs": [
        {
          "output_type": "display_data",
          "data": {
            "image/png": "[encoded data removed]",
            "text/plain": [
              "<Figure size 432x288 with 1 Axes>"
            ]
          },
          "metadata": {
            "tags": [],
            "needs_background": "light"
          }
        }
      ]
    },
    {
      "cell_type": "code",
      "metadata": {
        "id": "0EIzQZZejC85"
      },
      "source": [
        "f=1800 #MHz\r\n",
        "loc='urban'\r\n",
        "tower=80 #m\r\n",
        "user=1.5 #m\r\n",
        "dmin=200 #m\r\n",
        "dmax=700 #m\r\n",
        "N=200 #titik\r\n",
        "x=np.random.randint(dmin,dmax,N)"
      ],
      "execution_count": 20,
      "outputs": []
    },
    {
      "cell_type": "code",
      "metadata": {
        "colab": {
          "base_uri": "https://localhost:8080/"
        },
        "id": "aSVVAkTCjFWX",
        "outputId": "5659fa13-c73d-4c29-93de-dc2f1835c07d"
      },
      "source": [
        "print(x)"
      ],
      "execution_count": 21,
      "outputs": [
        {
          "output_type": "stream",
          "text": [
            "[303 418 619 550 618 275 290 201 375 494 411 247 466 200 545 430 302 697\n",
            " 427 485 404 667 690 691 256 646 299 229 221 328 346 592 462 515 272 386\n",
            " 229 216 684 633 243 419 270 594 385 295 448 488 616 251 581 339 533 481\n",
            " 480 599 392 528 343 506 418 257 572 295 296 220 295 260 602 301 530 288\n",
            " 494 515 686 217 451 500 536 471 670 486 634 367 494 248 256 401 680 344\n",
            " 647 487 476 478 548 214 414 520 660 507 279 279 673 477 626 541 278 439\n",
            " 582 430 468 662 248 259 207 386 559 323 401 596 608 508 631 291 654 541\n",
            " 594 213 215 586 655 428 405 568 687 333 666 645 272 694 598 429 216 277\n",
            " 300 218 692 283 660 687 563 660 624 387 477 287 523 532 208 453 647 498\n",
            " 480 401 409 618 648 393 427 424 471 562 584 597 449 468 285 671 445 696\n",
            " 201 645 225 453 556 384 593 281 222 283 409 395 359 391 349 525 278 313\n",
            " 252 310]\n"
          ],
          "name": "stdout"
        }
      ]
    },
    {
      "cell_type": "code",
      "metadata": {
        "id": "_dm2g21EjHNP"
      },
      "source": [
        "LpUrban1=cos(f,loc,tower,user,x)"
      ],
      "execution_count": 22,
      "outputs": []
    },
    {
      "cell_type": "code",
      "metadata": {
        "colab": {
          "base_uri": "https://localhost:8080/"
        },
        "id": "FrdvKl4NjIyp",
        "outputId": "eff658a9-a17a-4b8b-b5fe-82ffa396372e"
      },
      "source": [
        "print(LpUrban1)"
      ],
      "execution_count": 23,
      "outputs": [
        {
          "output_type": "stream",
          "text": [
            "[175.4923326  180.02456019 185.55515287 183.89034279 185.53237803\n",
            " 174.12650695 174.87462457 169.71094774 178.49542295 182.37772371\n",
            " 179.78666874 172.61388787 181.5557934  169.64069205 183.76170046\n",
            " 180.42325391 175.44576648 187.22690949 180.3246334  182.11872533\n",
            " 179.54469061 186.60718033 187.08472564 187.10512569 173.11802175\n",
            " 186.15655395 175.30513732 171.54803393 171.04713715 176.60910082\n",
            " 177.36166041 184.92692586 181.43435956 182.96415327 173.97199457\n",
            " 178.902675   171.54803393 170.72478356 186.96170094 185.87019368\n",
            " 172.38390337 180.05821908 173.86803663 184.9744343  178.8661348\n",
            " 175.11542082 181.00090267 182.20558832 185.48671757 172.84017768\n",
            " 184.66272611 177.07375648 183.44807925 182.00206845 181.97275265\n",
            " 185.09250907 179.11994775 183.31531448 177.23899284 182.71580964\n",
            " 180.02456019 173.17293892 184.44281507 175.11542082 175.16309002\n",
            " 170.98325388 175.11542082 173.3364174  185.16288176 175.39904592\n",
            " 183.36857064 174.77714157 182.37772371 182.96415327 187.00282867\n",
            " 170.78984712 181.09491573 182.54778096 183.52714159 181.7061282\n",
            " 186.67039466 182.14773921 185.89242926 178.19166482 182.37772371\n",
            " 172.67080204 173.11802175 179.43969953 186.87908348 177.28000084\n",
            " 186.17834241 182.17669346 181.85487549 181.91393737 183.83902675\n",
            " 170.59374784 179.88911456 183.10025324 186.45856755 182.74362058\n",
            " 174.32992186 174.32992186 186.73332658 181.88443739 185.713554\n",
            " 183.65793397 174.27934286 180.71503911 184.68695008 180.42325391\n",
            " 181.61611999 186.50118857 172.67080204 173.28213511 170.12527872\n",
            " 178.902675   184.11897926 176.39271811 179.43969953 185.02178304\n",
            " 185.30258113 182.77137672 185.82561694 174.92311425 186.32992522\n",
            " 183.65793397 184.9744343  170.52777003 170.65941807 184.78343154\n",
            " 186.35144736 180.35758368 179.57951445 184.34396388 187.0233476\n",
            " 176.82220984 186.58604568 186.13473173 173.97199457 187.1661492\n",
            " 185.06897316 180.39045706 170.72478356 174.22858158 175.35216988\n",
            " 170.85461155 187.12549625 174.53044108 186.45856755 187.0233476\n",
            " 184.21941631 186.45856755 185.668478   178.93912065 181.88443739\n",
            " 174.72814591 183.18128647 183.42162621 170.19316433 181.15724431\n",
            " 186.17834241 182.49132302 181.97275265 179.43969953 179.71795525\n",
            " 185.53237803 186.20009722 179.15583628 180.3246334  180.22531757\n",
            " 181.7061282  184.19437411 184.73527342 185.04539786 181.03231012\n",
            " 181.61611999 174.62964035 186.69140322 180.90625794 187.20668516\n",
            " 169.71094774 186.13473173 171.29981187 181.15724431 184.04317869\n",
            " 178.82949958 184.95070011 174.43053827 171.11073201 174.53044108\n",
            " 179.71795525 179.22734017 177.88121175 179.08396756 177.48326897\n",
            " 183.2350508  174.27934286 175.94971816 172.89618665 175.81405511]\n"
          ],
          "name": "stdout"
        }
      ]
    },
    {
      "cell_type": "code",
      "metadata": {
        "id": "MD6SnRr6jLAI"
      },
      "source": [
        "x_sort=x[np.argsort(x)]\r\n",
        "Urban_sort1=LpUrban1[np.argsort(x)]"
      ],
      "execution_count": 24,
      "outputs": []
    },
    {
      "cell_type": "code",
      "metadata": {
        "id": "Vqu3shbHjNNy"
      },
      "source": [
        "f=900 #MHz\r\n",
        "loc='urban'\r\n",
        "tower=80 #m\r\n",
        "user=1.5 #m\r\n",
        "dmin=200 #m\r\n",
        "dmax=700 #m\r\n",
        "N=200 #titik\r\n",
        "y=np.random.randint(dmin,dmax,N)"
      ],
      "execution_count": 25,
      "outputs": []
    },
    {
      "cell_type": "code",
      "metadata": {
        "colab": {
          "base_uri": "https://localhost:8080/"
        },
        "id": "sY-XRbN5jO8w",
        "outputId": "5d1a61d4-ca26-4d0c-fc94-f65234abffa5"
      },
      "source": [
        "print(y)"
      ],
      "execution_count": 26,
      "outputs": [
        {
          "output_type": "stream",
          "text": [
            "[408 543 257 502 671 361 370 246 224 607 218 361 532 266 607 511 567 490\n",
            " 265 232 243 242 622 401 507 320 544 403 405 407 622 580 587 428 208 401\n",
            " 204 625 450 643 203 370 215 501 538 349 673 205 483 396 693 352 344 204\n",
            " 629 315 341 324 610 256 494 359 438 264 369 522 257 625 591 629 451 312\n",
            " 527 568 513 286 299 277 393 453 425 609 380 381 488 528 494 271 380 366\n",
            " 281 681 638 596 307 552 274 474 274 294 441 270 219 514 568 503 608 248\n",
            " 637 617 394 226 527 371 643 284 470 577 381 554 269 628 462 253 321 271\n",
            " 493 257 326 407 640 578 345 650 212 621 602 510 661 226 564 408 347 408\n",
            " 607 621 524 646 696 568 273 233 385 338 437 318 410 487 566 245 410 489\n",
            " 494 399 576 431 668 455 606 424 257 291 491 288 486 647 350 606 675 562\n",
            " 651 599 620 459 437 478 618 241 492 506 347 304 537 611 408 205 359 269\n",
            " 269 254]\n"
          ],
          "name": "stdout"
        }
      ]
    },
    {
      "cell_type": "code",
      "metadata": {
        "id": "9b9J5GDFjRGA"
      },
      "source": [
        "LpUrban2=cos(f,loc,tower,user,y)"
      ],
      "execution_count": 27,
      "outputs": []
    },
    {
      "cell_type": "code",
      "metadata": {
        "colab": {
          "base_uri": "https://localhost:8080/"
        },
        "id": "r_ZnbqxDjTB0",
        "outputId": "1c8814a5-83ad-468e-a388-8dc60a58f726"
      },
      "source": [
        "print(LpUrban2)"
      ],
      "execution_count": 28,
      "outputs": [
        {
          "output_type": "stream",
          "text": [
            "[169.88981122 173.91625158 163.37927775 172.81035234 176.89774205\n",
            " 168.16580765 168.51268192 162.76308164 161.44340565 175.48573272\n",
            " 161.06095037 168.16580765 173.62796503 163.8641292  175.48573272\n",
            " 173.06065732 174.52548113 172.46953965 163.81107362 161.93771032\n",
            " 162.5902422  162.53215454 175.82959612 169.64603836 172.94995941\n",
            " 166.46761364 173.94216923 169.71611929 169.78585328 169.85524375\n",
            " 175.82959612 174.84479923 175.01378782 170.5639225  160.39950315\n",
            " 169.64603836 160.12597538 175.89737285 171.26998653 176.29732444\n",
            " 160.0567554  168.51268192 160.86575689 172.78226412 173.78594319\n",
            " 167.6896078  176.9396654  160.19485688 172.26685647 169.46929529\n",
            " 177.35217621 167.81017547 167.48633966 160.12597538 175.98723751\n",
            " 166.24577854 167.36295577 166.64260021 175.55518021 163.32436057\n",
            " 172.58406253 168.08755058 170.88925423 163.75781746 168.47455947\n",
            " 173.36066598 163.37927775 175.89737285 175.10945025 175.98723751\n",
            " 171.30125455 166.11098098 173.49494953 174.5503027  173.11568176\n",
            " 164.88531806 165.51147614 164.43492041 169.3621751  171.36358314\n",
            " 170.46483953 175.53206907 168.88833718 168.92535754 172.41192714\n",
            " 173.5216533  172.58406253 164.12645032 168.88833718 168.35956913\n",
            " 164.63687709 177.10612214 176.18736106 175.22812186 165.88341161\n",
            " 174.14781139 164.28152974 172.00190375 164.28152974 165.27392857\n",
            " 170.9854064  164.07437545 161.12541839 173.14311358 174.5503027\n",
            " 172.83838466 175.50891995 162.87714086 176.165265   175.71590512\n",
            " 169.39797242 161.56861748 173.49494953 168.55070148 176.29732444\n",
            " 164.78646686 171.88252815 174.7717503  168.92535754 174.19875625\n",
            " 164.02210735 175.96482504 171.64069839 163.15831263 166.5115645\n",
            " 164.12645032 172.55551898 163.37927775 166.72928502 169.85524375\n",
            " 176.23144948 174.79614206 167.52722862 176.44984513 160.66782055\n",
            " 175.80693121 175.36922058 173.03306429 176.686233   161.56861748\n",
            " 174.4507529  169.88981122 167.60865219 169.88981122 175.48573272\n",
            " 175.80693121 173.41453311 176.36289277 177.41302399 174.5503027\n",
            " 164.23002607 161.99829638 169.07247363 167.23848158 170.8570571\n",
            " 166.37929838 169.95869272 172.38303229 174.50061574 162.70570381\n",
            " 169.95869272 172.44076285 172.58406253 169.57560702 174.74731623\n",
            " 170.66231339 176.83462213 171.42563715 175.46250726 170.43165639\n",
            " 163.37927775 165.12945307 172.49825778 164.98348039 172.35407804\n",
            " 176.38468123 167.72991179 175.46250726 176.98146436 174.40071293\n",
            " 176.47149961 175.29884789 175.78422977 171.54893104 170.8570571\n",
            " 172.1202762  175.73871685 162.47382635 172.52691748 172.92214846\n",
            " 167.60865219 165.74508411 173.75973622 175.5782535  169.88981122\n",
            " 160.19485688 168.08755058 164.02210735 164.02210735 163.21387971]\n"
          ],
          "name": "stdout"
        }
      ]
    },
    {
      "cell_type": "code",
      "metadata": {
        "id": "ppQG0IyhjVbQ"
      },
      "source": [
        "y_sort=y[np.argsort(y)]\r\n",
        "Urban_sort2=LpUrban2[np.argsort(y)]"
      ],
      "execution_count": 29,
      "outputs": []
    },
    {
      "cell_type": "code",
      "metadata": {
        "id": "r1801B4MjXhI"
      },
      "source": [
        "f=700 #MHz\r\n",
        "loc='urban'\r\n",
        "tower=80 #m\r\n",
        "user=1.5 #m\r\n",
        "dmin=200 #m\r\n",
        "dmax=700 #m\r\n",
        "N=200 #titik\r\n",
        "z=np.random.randint(dmin,dmax,N)"
      ],
      "execution_count": 30,
      "outputs": []
    },
    {
      "cell_type": "code",
      "metadata": {
        "colab": {
          "base_uri": "https://localhost:8080/"
        },
        "id": "MQddeiUHjZVs",
        "outputId": "7c6c766e-6436-446b-d967-0788cd8aee4c"
      },
      "source": [
        "print(z)"
      ],
      "execution_count": 32,
      "outputs": [
        {
          "output_type": "stream",
          "text": [
            "[621 578 530 360 357 277 329 458 531 402 665 455 512 583 330 456 617 522\n",
            " 631 365 431 417 525 502 255 558 686 214 611 538 606 343 540 523 318 644\n",
            " 580 473 615 262 352 693 584 377 275 551 646 688 578 574 390 509 435 216\n",
            " 599 590 565 323 530 298 635 456 647 534 321 584 582 235 534 649 315 628\n",
            " 439 440 450 486 624 537 619 511 270 288 342 251 408 370 656 664 473 317\n",
            " 570 416 445 525 285 287 453 478 566 576 655 648 396 628 463 286 548 607\n",
            " 477 574 229 534 327 499 348 570 471 614 684 548 513 439 618 412 363 229\n",
            " 331 530 549 543 230 694 400 280 616 238 530 392 472 648 524 652 573 623\n",
            " 478 202 262 505 451 678 298 372 612 259 387 597 686 643 329 324 582 595\n",
            " 237 280 289 547 493 325 243 356 475 235 261 440 549 507 551 451 297 424\n",
            " 494 384 287 487 281 664 451 691 426 400 379 658 233 696 334 580 393 355\n",
            " 218 689]\n"
          ],
          "name": "stdout"
        }
      ]
    },
    {
      "cell_type": "code",
      "metadata": {
        "id": "EP-MAqsmjbPB"
      },
      "source": [
        "LpUrban3=cos(f,loc,tower,user,z)"
      ],
      "execution_count": 33,
      "outputs": []
    },
    {
      "cell_type": "code",
      "metadata": {
        "colab": {
          "base_uri": "https://localhost:8080/"
        },
        "id": "VqClVa2HjdJI",
        "outputId": "05794532-25d5-4ddb-80e2-1bfc9c7cba35"
      },
      "source": [
        "print(LpUrban3)"
      ],
      "execution_count": 34,
      "outputs": [
        {
          "output_type": "stream",
          "text": [
            "[172.96153489 171.95074574 170.72951314 165.28133714 165.16345999\n",
            " 161.58952409 164.01292384 168.67281227 170.75606591 166.83572609\n",
            " 173.92582179 168.58024083 170.24280009 172.07207498 164.05567422\n",
            " 168.61116562 172.87050881 170.51526966 173.18655944 165.47563315\n",
            " 167.81691707 167.35176319 170.59599331 169.96495602 160.42383214\n",
            " 171.4547002  174.36377118 157.95469035 172.73285718 170.94054687\n",
            " 172.61711095 164.59993534 170.99281497 170.54222897 163.53390206\n",
            " 173.47381816 171.99940291 169.12675824 172.82477423 160.80530095\n",
            " 164.96477916 174.5067799  172.09621592 165.93129243 161.48744946\n",
            " 171.27687338 173.51749646 174.40477918 171.95074574 171.85292425\n",
            " 166.40883774 170.16002079 167.9470449  158.08572606 172.45345157\n",
            " 172.24019916 171.63031007 163.75366062 170.72951314 162.61888971\n",
            " 173.2755723  168.61116562 173.53928492 170.8354252  163.66616818\n",
            " 172.09621592 172.04789259 159.27329599 170.8354252  173.58276099\n",
            " 163.40038223 173.11942872 168.07598161 168.10803223 168.42459021\n",
            " 169.50868172 173.0294205  170.91433991 172.91609537 170.21526101\n",
            " 161.22897913 162.13808407 164.55880761 160.20112018 167.0444149\n",
            " 165.6672856  173.73387917 173.90462353 169.12675824 163.48953593\n",
            " 171.75441869 167.31794267 168.26720045 170.59599331 161.99058285\n",
            " 162.08908841 168.51818682 169.27487988 171.65521943 171.90191991\n",
            " 173.71238986 173.56103973 166.62389897 173.11942872 168.82575881\n",
            " 162.03992174 171.19996926 172.6403364  169.24537989 171.85292425\n",
            " 158.90897644 170.8354252  163.92703188 169.88052278 164.80379183\n",
            " 171.75441869 169.06707071 172.80185113 174.32264345 171.19996926\n",
            " 170.27028544 168.07598161 172.89332053 167.1818427  165.39823605\n",
            " 158.90897644 164.09829524 170.72951314 171.22565064 171.07085527\n",
            " 158.97035447 174.52709171 166.76547039 161.74126241 172.84766008\n",
            " 159.45198216 170.72951314 166.48089026 169.09694609 173.56103973\n",
            " 170.56913679 173.64772454 171.82836237 173.0068283  169.27487988\n",
            " 157.14179728 160.80530095 170.04888619 168.45585823 174.19853483\n",
            " 162.61888971 165.74322237 172.75589273 160.64307761 166.30006316\n",
            " 172.40634037 174.36377118 173.45192813 164.01292384 163.79720389\n",
            " 172.04789259 172.35907107 159.3926716  161.74126241 162.1869099\n",
            " 171.17424096 169.71012266 163.84061298 159.74484588 165.12394737\n",
            " 169.18619393 159.27329599 160.75143382 168.10803223 171.22565064\n",
            " 170.10456309 171.27687338 168.45585823 162.57154096 167.58626007\n",
            " 169.73866622 166.19044208 162.08908841 169.53763597 161.79148078\n",
            " 173.90462353 168.45585823 174.4660682  167.65254837 166.76547039\n",
            " 166.00582296 173.77675968 159.15290006 174.56762767 164.22538997\n",
            " 171.99940291 166.51677878 165.08432361 158.21555405 174.4252385 ]\n"
          ],
          "name": "stdout"
        }
      ]
    },
    {
      "cell_type": "code",
      "metadata": {
        "id": "u0Tutgbrjg9E"
      },
      "source": [
        "z_sort=z[np.argsort(z)]\r\n",
        "Urban_sort3=LpUrban3[np.argsort(z)]"
      ],
      "execution_count": 35,
      "outputs": []
    },
    {
      "cell_type": "code",
      "metadata": {
        "colab": {
          "base_uri": "https://localhost:8080/",
          "height": 295
        },
        "id": "efHdZ5P_jjNL",
        "outputId": "2ab8a8f2-6ba8-45ea-d542-c97b18b3e100"
      },
      "source": [
        "plt.figure()\r\n",
        "plt.plot(x_sort,Urban_sort1, label='700 Mhz')\r\n",
        "plt.plot(y_sort,Urban_sort2, label='900 Mhz')\r\n",
        "plt.plot(z_sort,Urban_sort3, label='1800 Mhz')\r\n",
        "plt.legend()\r\n",
        "plt.title('Model Urban (Contoh Gambar)')\r\n",
        "plt.xlabel('Jarak (m)')\r\n",
        "plt.ylabel('Path Loss (dB)')\r\n",
        "plt.show()"
      ],
      "execution_count": 36,
      "outputs": [
        {
          "output_type": "display_data",
          "data": {
            "image/png": "[encoded data removed]",
            "text/plain": [
              "<Figure size 432x288 with 1 Axes>"
            ]
          },
          "metadata": {
            "tags": [],
            "needs_background": "light"
          }
        }
      ]
    },
    {
      "cell_type": "code",
      "metadata": {
        "id": "gN_jXMFPkjsD"
      },
      "source": [
        ""
      ],
      "execution_count": null,
      "outputs": []
    }
  ]
}
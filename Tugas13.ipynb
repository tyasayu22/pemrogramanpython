{
  "nbformat": 4,
  "nbformat_minor": 0,
  "metadata": {
    "colab": {
      "name": "Tugas13.ipynb",
      "provenance": [],
      "include_colab_link": true
    },
    "kernelspec": {
      "name": "python3",
      "display_name": "Python 3"
    }
  },
  "cells": [
    {
      "cell_type": "markdown",
      "metadata": {
        "id": "view-in-github",
        "colab_type": "text"
      },
      "source": [
        "<a href=\"https://colab.research.google.com/github/tyasayu22/pemrogramanpython/blob/main/Tugas13.ipynb\" target=\"_parent\"><img src=\"https://colab.research.google.com/assets/colab-badge.svg\" alt=\"Open In Colab\"/></a>"
      ]
    },
    {
      "cell_type": "code",
      "metadata": {
        "id": "4XUyzaXShkar"
      },
      "source": [
        "import numpy as np\r\n",
        "import matplotlib.pyplot as plt"
      ],
      "execution_count": 1,
      "outputs": []
    },
    {
      "cell_type": "code",
      "metadata": {
        "id": "JAACoF6NiCRj"
      },
      "source": [
        "def cos(frek,tipe,ht,hr,d):\r\n",
        "  #frek = frekuensi (MHz)\r\n",
        "  #tipe = urban, suburban, open\r\n",
        "  #ht = tinggi tower (meter)\r\n",
        "  #hr = tinggi user (meter)\r\n",
        "  #d = jarak (meter)\r\n",
        "    if frek in range(150,1501):\r\n",
        "        Ca=69.55\r\n",
        "        Cb=26.16\r\n",
        "    elif frek in range(1501,2001):\r\n",
        "        Ca=46.3\r\n",
        "        Cb=33.9\r\n",
        "    \r\n",
        "    if tipe=='urban' :\r\n",
        "        Cm=0\r\n",
        "    elif tipe=='suburban' :\r\n",
        "        Cm= -2*((np.log10((frek/28)**2))-5.4)\r\n",
        "    elif tipe=='open' :\r\n",
        "        Cm= -4.78*(np.log10(frek))+18.33*(np.log10(frek))-40.94\r\n",
        "    else :\r\n",
        "        Cm='tipe salah'\r\n",
        "    \r\n",
        "    ahr = (1.1*np.log10(frek)-0.7)*hr-(1.56*np.log10(frek)-1.8)\r\n",
        "    Lp = Ca+(Cb*np.log10(frek))-(13.83*np.log(ht))-ahr+((44.9-6.55*np.log10(ht))*np.log10(d))-Cm\r\n",
        "    \r\n",
        "    return Lp"
      ],
      "execution_count": 2,
      "outputs": []
    },
    {
      "cell_type": "code",
      "metadata": {
        "id": "PgKkZBTbiK9y"
      },
      "source": [
        "f=1800 #MHz\r\n",
        "loc='urban'\r\n",
        "tower=80 #m\r\n",
        "user=1.5 #m\r\n",
        "dmin=200 #m\r\n",
        "dmax=700 #m\r\n",
        "N=200 #titik\r\n",
        "d=np.random.randint(dmin,dmax,N)"
      ],
      "execution_count": 3,
      "outputs": []
    },
    {
      "cell_type": "code",
      "metadata": {
        "colab": {
          "base_uri": "https://localhost:8080/"
        },
        "id": "pC7Fks3eiOIy",
        "outputId": "abb064c6-1b03-4a5d-db22-850dde1b6514"
      },
      "source": [
        "print(d)"
      ],
      "execution_count": 4,
      "outputs": [
        {
          "output_type": "stream",
          "text": [
            "[630 329 476 591 474 390 699 426 434 351 269 565 229 634 228 511 285 392\n",
            " 619 513 306 655 333 319 414 612 535 426 307 474 692 467 340 448 208 298\n",
            " 607 268 370 429 236 613 517 409 357 653 308 450 330 526 298 253 379 671\n",
            " 570 623 283 563 211 642 617 589 569 262 435 686 264 669 601 567 487 460\n",
            " 348 237 237 356 441 671 526 238 514 207 618 253 307 599 626 401 453 481\n",
            " 651 567 275 339 446 407 576 280 658 642 510 414 421 335 305 684 311 443\n",
            " 685 367 664 364 201 659 314 457 676 613 693 237 606 419 241 396 356 470\n",
            " 606 223 447 467 319 449 349 323 369 497 643 398 240 229 610 634 211 485\n",
            " 256 425 271 238 329 492 243 398 414 647 277 246 263 266 427 357 444 442\n",
            " 271 259 516 595 448 280 575 552 566 329 292 278 565 275 229 237 207 618\n",
            " 605 550 456 671 429 522 485 488 260 561 391 251 325 480 351 683 231 401\n",
            " 665 304]\n"
          ],
          "name": "stdout"
        }
      ]
    },
    {
      "cell_type": "code",
      "metadata": {
        "id": "ALcvgZgDiSjF"
      },
      "source": [
        "LpUrban=cos(f,loc,tower,user,d)"
      ],
      "execution_count": 5,
      "outputs": []
    },
    {
      "cell_type": "code",
      "metadata": {
        "colab": {
          "base_uri": "https://localhost:8080/"
        },
        "id": "6fGo3U-qiUuA",
        "outputId": "51ef6981-1283-4a62-87bb-fa8388f1e413"
      },
      "source": [
        "print(LpUrban)"
      ],
      "execution_count": 6,
      "outputs": [
        {
          "output_type": "stream",
          "text": [
            "[185.80327556 176.65198134 181.85487549 184.90311142 181.79556493\n",
            " 179.04789523 187.26727123 180.29160587 180.55368296 177.56376198\n",
            " 173.81576852 184.26936756 171.54803393 185.89242926 171.48638728\n",
            " 182.8543185  174.62964035 179.11994775 185.55515287 182.90934294\n",
            " 175.63111439 186.35144736 176.82220984 176.2171864  179.88911456\n",
            " 185.39495023 183.50083675 180.29160587 175.67707279 181.79556493\n",
            " 187.12549625 181.58598899 177.11524764 181.00090267 170.19316433\n",
            " 175.2579472  185.2793939  173.76330575 178.30634309 180.39045706\n",
            " 171.97216775 185.41794817 183.01875116 179.71795525 177.80251748\n",
            " 186.30837014 175.72288173 181.06364771 176.69473171 183.26185621\n",
            " 175.2579472  172.9519738  178.64488045 186.69140322 184.39347619\n",
            " 185.64588579 174.53044108 184.21941631 170.39488001 186.06906151\n",
            " 185.5095663  184.85536142 184.36874179 173.44435845 180.5861024\n",
            " 187.00282867 173.55147864 186.64935472 185.13946324 184.31914231\n",
            " 182.17669346 181.37324781 177.44284933 172.03172909 172.03172909\n",
            " 177.76300487 180.77906757 186.69140322 183.26185621 172.09103965\n",
            " 182.93677476 170.12527872 185.53237803 172.9519738  175.67707279\n",
            " 185.09250907 185.713554   179.43969953 181.15724431 182.00206845\n",
            " 186.26516079 184.31914231 174.12650695 177.07375648 180.93787689\n",
            " 179.64890493 184.5409774  174.3803199  186.41581717 186.06906151\n",
            " 182.82672547 179.88911456 180.12529653 176.90655882 175.58500555\n",
            " 186.96170094 175.85942145 180.84280631 186.98227982 178.19166482\n",
            " 186.54368103 178.07604525 169.71094774 186.43720858 175.99465037\n",
            " 181.28108017 186.79597859 185.41794817 187.14583739 172.03172909\n",
            " 185.25616844 180.05821908 172.26748753 179.26295647 177.76300487\n",
            " 181.67618932 185.25616844 171.17404105 180.96942503 181.58598899\n",
            " 176.2171864  181.03231012 177.48326897 176.39271811 178.26822064\n",
            " 182.46300896 186.09098562 179.33392003 172.20891681 171.54803393\n",
            " 185.34884139 185.89242926 170.39488001 182.11872533 173.11802175\n",
            " 180.25850071 173.9201115  172.09103965 176.65198134 182.32057865\n",
            " 172.38390337 179.33392003 179.88911456 186.17834241 174.22858158\n",
            " 172.55674281 173.49802037 173.65779037 180.3246334  177.80251748\n",
            " 180.87456785 180.81097299 173.9201115  173.28213511 182.99147866\n",
            " 184.99812856 181.00090267 174.3803199  184.51650088 183.94147257\n",
            " 184.29427692 176.65198134 174.97143758 174.27934286 184.26936756\n",
            " 174.12650695 171.54803393 172.03172909 170.12527872 185.53237803\n",
            " 185.23290462 183.89034279 181.25022312 186.69140322 180.39045706\n",
            " 183.15432715 182.11872533 182.20558832 173.3364174  184.1692873\n",
            " 179.08396756 172.84017768 176.47967047 181.97275265 177.56376198\n",
            " 186.94109196 171.67052372 179.43969953 186.56487928 175.53874529]\n"
          ],
          "name": "stdout"
        }
      ]
    },
    {
      "cell_type": "code",
      "metadata": {
        "id": "M3255q4KiXt-"
      },
      "source": [
        "d_sort=d[np.argsort(d)]\r\n",
        "Urban_sort=LpUrban[np.argsort(d)]"
      ],
      "execution_count": 7,
      "outputs": []
    },
    {
      "cell_type": "code",
      "metadata": {
        "id": "ADck0O-PieBX"
      },
      "source": [
        "f=1800 #MHz\r\n",
        "loc='suburban'\r\n",
        "tower=80 #m\r\n",
        "user=1.5 #m\r\n",
        "dmin=200 #m\r\n",
        "dmax=700 #m\r\n",
        "N=200 #titik\r\n",
        "a=np.random.randint(dmin,dmax,N)"
      ],
      "execution_count": 8,
      "outputs": []
    },
    {
      "cell_type": "code",
      "metadata": {
        "colab": {
          "base_uri": "https://localhost:8080/"
        },
        "id": "V0ukKoJOigoQ",
        "outputId": "597638d6-713c-42a8-a591-133c7489a667"
      },
      "source": [
        "print(a)"
      ],
      "execution_count": 9,
      "outputs": [
        {
          "output_type": "stream",
          "text": [
            "[526 365 564 403 544 586 454 409 278 321 487 598 657 485 453 346 567 201\n",
            " 413 567 431 639 363 414 523 251 314 324 366 391 539 493 502 247 330 512\n",
            " 348 592 589 686 593 428 613 240 398 227 333 674 369 342 621 314 556 294\n",
            " 673 556 489 402 585 302 452 273 504 498 322 396 373 359 218 631 631 369\n",
            " 483 640 396 274 361 254 315 518 613 273 211 693 529 355 571 602 280 260\n",
            " 216 597 273 625 254 466 343 392 405 462 561 493 258 566 330 636 350 219\n",
            " 277 477 477 556 522 580 204 267 327 692 555 356 605 302 397 494 594 508\n",
            " 601 585 281 462 454 342 388 517 620 622 270 600 421 642 618 453 509 692\n",
            " 306 566 339 696 693 589 311 503 492 381 637 295 646 558 424 484 454 341\n",
            " 275 550 518 508 395 567 626 261 396 550 330 439 602 395 397 561 563 476\n",
            " 333 352 394 208 305 255 304 669 655 659 424 529 325 634 670 402 665 460\n",
            " 515 626]\n"
          ],
          "name": "stdout"
        }
      ]
    },
    {
      "cell_type": "code",
      "metadata": {
        "id": "RYEujtHxiicW"
      },
      "source": [
        "Lpsuburban=cos(f,loc,tower,user,a)"
      ],
      "execution_count": 10,
      "outputs": []
    },
    {
      "cell_type": "code",
      "metadata": {
        "colab": {
          "base_uri": "https://localhost:8080/"
        },
        "id": "r_x3pmXuiidH",
        "outputId": "53b4355e-c23b-469e-c5ad-23e2e451a777"
      },
      "source": [
        "print(Lpsuburban)"
      ],
      "execution_count": 11,
      "outputs": [
        {
          "output_type": "stream",
          "text": [
            "[179.6943141  174.54714854 180.67687198 175.94223836 180.1682883\n",
            " 181.21588943 177.62076338 176.15041315 170.71180075 172.73768357\n",
            " 178.60915136 181.50143105 182.82685113 178.55118322 177.58970221\n",
            " 173.79411831 180.7516002  166.14340564 176.28750656 180.7516002\n",
            " 176.88843246 182.43554159 174.46975144 176.32157245 179.61374436\n",
            " 169.27263557 172.42710827 172.86871928 174.5856882  175.51642546\n",
            " 180.03822055 178.78163805 179.03647141 169.04634577 173.12718961\n",
            " 179.31431548 173.87530722 181.35938376 181.28781931 183.43528657\n",
            " 181.383158   176.79004158 181.85040607 168.6413747  175.76637793\n",
            " 167.85692755 173.25466774 183.18669946 174.70067854 173.630323\n",
            " 182.03305028 172.42710827 180.47563659 171.50004764 183.16578447\n",
            " 180.47563659 178.66688192 175.90724148 181.19183095 171.87822438\n",
            " 177.55857239 170.45614514 179.09248038 178.92378091 172.78149772\n",
            " 175.69541436 174.85255319 174.31366965 167.28706944 182.25807483\n",
            " 182.25807483 174.70067854 178.49297554 182.45756855 175.69541436\n",
            " 170.50764881 174.39192672 169.43999878 172.47189761 179.47842884\n",
            " 181.85040607 170.45614514 166.82733791 183.57829529 179.77442562\n",
            " 174.155839   180.85062513 181.59533965 170.8127778  169.7688753\n",
            " 167.15724145 181.47785576 170.45614514 182.12349192 169.43999878\n",
            " 177.98825129 173.67145073 175.55240565 176.01197235 177.86681746\n",
            " 180.6017452  178.78163805 169.66010072 180.72673482 173.12718961\n",
            " 182.36925329 173.95603087 167.35153746 170.66103948 178.31689528\n",
            " 178.31689528 180.47563659 179.58678505 181.0709183  166.35209446\n",
            " 170.14310475 172.99854727 183.55795415 180.45027882 174.19546276\n",
            " 181.66536252 171.87822438 175.73094083 178.81018161 181.40689219\n",
            " 179.20383462 181.57192113 181.19183095 170.86299616 177.86681746\n",
            " 177.62076338 173.630323   175.40793015 179.45120905 182.01034884\n",
            " 182.05571519 170.30049452 181.54846361 176.55775442 182.50151941\n",
            " 181.96483592 177.58970221 179.23153618 183.55795415 172.06357228\n",
            " 180.72673482 173.50621438 183.63914306 183.57829529 181.28781931\n",
            " 172.29187935 179.06450373 178.75303655 175.15147661 182.39138407\n",
            " 171.54787871 182.58901184 180.52621559 176.65777546 178.52210945\n",
            " 177.62076338 173.58907484 170.55896485 180.32280069 179.47842884\n",
            " 179.20383462 175.65979807 180.7516002  182.14601189 169.82294921\n",
            " 175.69541436 180.32280069 173.12718961 177.147497   181.59533965\n",
            " 175.65979807 175.73094083 180.6017452  180.65187421 178.28733339\n",
            " 173.25466774 174.03629454 175.62409149 166.62562223 172.01746345\n",
            " 169.49534753 171.97120318 183.08181262 182.78390525 182.86966647\n",
            " 176.65777546 179.77442562 172.91212837 182.32488715 183.10285256\n",
            " 175.90724148 182.99733718 177.8057057  179.39661116 182.14601189]\n"
          ],
          "name": "stdout"
        }
      ]
    },
    {
      "cell_type": "code",
      "metadata": {
        "id": "8xnUHbNEimf4"
      },
      "source": [
        "a_sort=a[np.argsort(a)]\r\n",
        "suburban_sort=Lpsuburban[np.argsort(a)]"
      ],
      "execution_count": 12,
      "outputs": []
    },
    {
      "cell_type": "code",
      "metadata": {
        "id": "c97YS0FSioZs"
      },
      "source": [
        "f=1800 #MHz\r\n",
        "loc='open'\r\n",
        "tower=80 #m\r\n",
        "user=1.5 #m\r\n",
        "dmin=200 #m\r\n",
        "dmax=700 #m\r\n",
        "N=200 #titik\r\n",
        "b=np.random.randint(dmin,dmax,N)"
      ],
      "execution_count": 13,
      "outputs": []
    },
    {
      "cell_type": "code",
      "metadata": {
        "colab": {
          "base_uri": "https://localhost:8080/"
        },
        "id": "0SfdHM41iqGL",
        "outputId": "dd5789aa-d7ae-4eb0-d163-781e68b3522c"
      },
      "source": [
        "print(b)"
      ],
      "execution_count": 14,
      "outputs": [
        {
          "output_type": "stream",
          "text": [
            "[347 251 441 560 456 415 289 636 276 579 417 385 200 310 344 603 573 395\n",
            " 418 387 576 292 396 277 658 336 583 642 664 217 498 368 393 448 468 233\n",
            " 423 354 568 232 344 318 216 564 376 481 259 311 478 530 270 269 284 427\n",
            " 433 407 422 444 682 313 345 278 443 467 262 390 275 492 335 654 238 563\n",
            " 205 396 203 356 488 525 410 647 295 612 329 431 257 331 344 518 294 349\n",
            " 495 288 344 456 306 548 490 603 226 519 365 460 626 473 692 509 437 655\n",
            " 554 522 577 262 653 226 551 480 376 487 203 443 241 671 443 432 502 337\n",
            " 272 654 516 418 201 692 674 316 426 243 670 328 555 506 563 658 233 424\n",
            " 607 621 654 213 215 208 400 514 404 236 605 353 417 502 649 633 451 481\n",
            " 435 274 660 471 403 281 270 525 678 634 383 246 370 218 203 358 548 682\n",
            " 382 218 443 591 669 225 611 342 556 676 575 257 470 687 207 340 612 653\n",
            " 336 388]\n"
          ],
          "name": "stdout"
        }
      ]
    },
    {
      "cell_type": "code",
      "metadata": {
        "id": "bQykrUS8ir3o"
      },
      "source": [
        "Lpopen=cos(f,loc,tower,user,b)"
      ],
      "execution_count": 15,
      "outputs": []
    },
    {
      "cell_type": "code",
      "metadata": {
        "colab": {
          "base_uri": "https://localhost:8080/"
        },
        "id": "mVfiv7opivH-",
        "outputId": "a9fc0b18-4b64-416f-9f47-7b8ab3f9efe7"
      },
      "source": [
        "print(Lpopen)"
      ],
      "execution_count": 16,
      "outputs": [
        {
          "output_type": "stream",
          "text": [
            "[174.23337092 169.67123523 177.61012513 180.97521329 178.08128067\n",
            " 176.75415581 171.65702495 182.76785295 171.00869428 181.44521038\n",
            " 176.82187824 175.69719236 166.4717496  172.64511267 174.11105839\n",
            " 182.01731897 181.29847742 176.05839773 176.85561775 175.77017821\n",
            " 181.37203496 171.80249513 176.09401402 171.05963914 183.24687473\n",
            " 173.77960221 181.54219003 182.90011907 183.37473858 167.62090468\n",
            " 179.32238057 175.06105229 175.98689383 177.83196022 178.44717754\n",
            " 168.62301511 177.02311363 174.51470313 181.17502143 168.56242905\n",
            " 174.11105839 173.00401711 167.55584111 181.07547164 175.36399381\n",
            " 178.833126   170.11319266 172.69047901 178.74499493 180.19962819\n",
            " 170.69909418 170.64682608 171.41118559 177.15569096 177.3522463\n",
            " 176.47996248 176.9897734  177.70562541 183.75151034 172.78077571\n",
            " 174.15194735 171.11040041 177.67386387 178.41704654 170.275416\n",
            " 175.87895279 170.95756451 179.15163621 173.73761638 183.16098277\n",
            " 168.92209721 181.05047387 166.81957561 176.09401402 166.68147414\n",
            " 174.59406243 179.03664588 180.06610836 176.58341145 183.00939997\n",
            " 171.94647837 182.22600778 173.48303889 177.28703212 170.00399648\n",
            " 173.56841029 174.11105839 179.8770285  171.8986473  174.31432653\n",
            " 179.23726709 171.60819912 174.11105839 178.08128067 172.46217195\n",
            " 180.67008431 179.09425838 182.01731897 168.19333621 179.9041958\n",
            " 174.9457482  178.20430536 182.54461155 178.59687329 183.95655381\n",
            " 179.63013584 177.48177583 183.18250491 180.82347498 179.98538471\n",
            " 181.39646903 170.275416   183.1394277  168.19333621 180.74698843\n",
            " 178.8038102  175.36399381 179.00775102 166.68147414 177.67386387\n",
            " 169.09854508 183.52246078 177.67386387 177.31967695 179.43507107\n",
            " 173.82146328 170.80305213 183.16098277 179.82253622 176.85561775\n",
            " 166.5420053  183.95655381 183.58529912 172.91514466 177.12266342\n",
            " 169.21496093 183.50145222 173.44015838 180.84887848 179.5468672\n",
            " 181.05047387 183.24687473 168.62301511 177.05637512 182.11045145\n",
            " 182.43164994 183.16098277 167.35882758 167.49047562 167.02422189\n",
            " 176.23558544 179.76783232 176.37574817 168.8032253  182.06396218\n",
            " 174.47485519 176.82187824 179.43507107 183.05287604 182.70125123\n",
            " 177.92597328 178.833126   177.41715995 170.90624847 183.2896251\n",
            " 178.53718576 176.34083802 171.26159583 170.69909418 180.06610836\n",
            " 183.66864988 182.72348681 175.62382637 169.38780037 175.13740065\n",
            " 167.6856691  166.68147414 174.67297713 180.67008431 183.75151034\n",
            " 175.58699959 167.6856691  177.67386387 181.73416898 183.48041228\n",
            " 168.13086942 182.20297223 174.02892266 180.87423625 183.62703615\n",
            " 181.34755843 170.00399648 178.50724688 183.85440515 166.95633627\n",
            " 173.9463052  182.22600778 183.1394277  173.77960221 175.80652981]\n"
          ],
          "name": "stdout"
        }
      ]
    },
    {
      "cell_type": "code",
      "metadata": {
        "id": "nk24cG3Giyyw"
      },
      "source": [
        "b_sort=b[np.argsort(b)]\r\n",
        "open_sort=Lpopen[np.argsort(b)]"
      ],
      "execution_count": 17,
      "outputs": []
    },
    {
      "cell_type": "code",
      "metadata": {
        "colab": {
          "base_uri": "https://localhost:8080/",
          "height": 295
        },
        "id": "uPSwDBmgi1sD",
        "outputId": "03632093-8b9b-447b-90c3-97ed96357b45"
      },
      "source": [
        "plt.figure()\r\n",
        "plt.plot(d_sort,Urban_sort, label='Urban')\r\n",
        "plt.plot(b_sort,open_sort, label='Open')\r\n",
        "plt.plot(a_sort,suburban_sort, label='Suburban')\r\n",
        "plt.legend()\r\n",
        "plt.title('FREKUENSI 1800 MHZ (GAMBAR CONTOH)')\r\n",
        "plt.xlabel('Jarak (m)')\r\n",
        "plt.ylabel('Path Loss (dB)')\r\n",
        "plt.show()"
      ],
      "execution_count": 18,
      "outputs": [
        {
          "output_type": "display_data",
          "data": {
            "image/png": "[encoded data removed]",
            "text/plain": [
              "<Figure size 432x288 with 1 Axes>"
            ]
          },
          "metadata": {
            "tags": [],
            "needs_background": "light"
          }
        }
      ]
    },
    {
      "cell_type": "code",
      "metadata": {
        "id": "0EIzQZZejC85"
      },
      "source": [
        "f=1800 #MHz\r\n",
        "loc='urban'\r\n",
        "tower=80 #m\r\n",
        "user=1.5 #m\r\n",
        "dmin=200 #m\r\n",
        "dmax=700 #m\r\n",
        "N=200 #titik\r\n",
        "x=np.random.randint(dmin,dmax,N)"
      ],
      "execution_count": 19,
      "outputs": []
    },
    {
      "cell_type": "code",
      "metadata": {
        "colab": {
          "base_uri": "https://localhost:8080/"
        },
        "id": "aSVVAkTCjFWX",
        "outputId": "e4162a50-176f-46d8-e9c3-bfdfbe8059c9"
      },
      "source": [
        "print(x)"
      ],
      "execution_count": 20,
      "outputs": [
        {
          "output_type": "stream",
          "text": [
            "[409 687 686 368 499 554 562 279 220 690 568 230 505 541 582 387 301 643\n",
            " 280 680 345 653 304 313 293 535 208 289 306 563 313 533 210 491 373 686\n",
            " 221 627 457 439 371 239 317 318 283 215 248 613 287 446 484 566 451 544\n",
            " 289 326 353 691 274 265 625 640 338 364 629 444 206 325 499 334 285 312\n",
            " 329 481 389 307 605 488 393 510 427 690 543 410 649 681 508 611 216 354\n",
            " 468 255 615 400 495 330 620 690 437 678 206 243 448 225 282 541 585 508\n",
            " 494 689 276 253 495 486 420 502 540 422 662 545 372 313 305 479 566 523\n",
            " 457 211 394 694 377 264 448 561 391 244 550 691 275 216 599 386 280 477\n",
            " 498 516 532 502 676 465 473 211 604 254 572 671 361 654 378 542 558 543\n",
            " 294 253 248 418 320 540 454 329 359 575 241 616 404 641 686 529 398 350\n",
            " 567 247 596 604 667 673 325 675 357 604 447 304 354 316 543 230 344 237\n",
            " 417 545]\n"
          ],
          "name": "stdout"
        }
      ]
    },
    {
      "cell_type": "code",
      "metadata": {
        "id": "_dm2g21EjHNP"
      },
      "source": [
        "LpUrban1=cos(f,loc,tower,user,x)"
      ],
      "execution_count": 21,
      "outputs": []
    },
    {
      "cell_type": "code",
      "metadata": {
        "colab": {
          "base_uri": "https://localhost:8080/"
        },
        "id": "FrdvKl4NjIyp",
        "outputId": "6fd9b593-da55-4339-8bfe-bae542b5c7a4"
      },
      "source": [
        "print(LpUrban1)"
      ],
      "execution_count": 22,
      "outputs": [
        {
          "output_type": "stream",
          "text": [
            "[179.71795525 187.0233476  187.00282867 178.22999474 182.51958027\n",
            " 183.99241742 184.19437411 174.32992186 170.98325388 187.08472564\n",
            " 184.34396388 171.60941197 182.68794368 183.65793397 184.68695008\n",
            " 178.93912065 175.39904592 186.09098562 174.3803199  186.87908348\n",
            " 177.3208898  186.30837014 175.53874529 175.94971816 175.0195957\n",
            " 183.50083675 170.19316433 174.82596739 175.63111439 184.21941631\n",
            " 175.94971816 183.44807925 170.32796189 182.29191895 178.42009529\n",
            " 187.00282867 171.04713715 185.73603802 181.28108017 180.71503911\n",
            " 178.34436265 172.15010153 176.12859342 176.17295956 174.53044108\n",
            " 170.65941807 172.67080204 185.41794817 174.72814591 180.93787689\n",
            " 182.08965155 184.29427692 181.09491573 183.73583041 174.82596739\n",
            " 176.5229462  177.64379763 187.10512569 174.07519091 173.6047348\n",
            " 185.69103403 186.02511066 177.03214275 178.07604525 185.78089869\n",
            " 180.87456785 170.05706436 176.47967047 182.51958027 176.86444747\n",
            " 174.62964035 175.90464216 176.65198134 182.00206845 179.01173029\n",
            " 175.67707279 185.23290462 182.20558832 179.15583628 182.82672547\n",
            " 180.3246334  187.08472564 183.70991276 179.75235389 186.22181849\n",
            " 186.89978332 182.77137672 185.37191467 170.72478356 177.68364557\n",
            " 181.61611999 173.06288963 185.46383172 179.40452789 182.40620954\n",
            " 176.69473171 185.57789095 187.08472564 180.65071828 186.83759232\n",
            " 170.05706436 172.38390337 181.00090267 171.29981187 174.48057824\n",
            " 183.65793397 184.75937306 182.77137672 182.37772371 187.06429599\n",
            " 174.17763673 172.9519738  182.40620954 182.14773921 180.09179773\n",
            " 182.60401352 183.63187246 180.15871585 186.50118857 183.76170046\n",
            " 178.38227987 175.94971816 175.58500555 181.94337571 184.29427692\n",
            " 183.18128647 181.28108017 170.39488001 179.19163359 187.1661492\n",
            " 178.57034992 173.55147864 181.00090267 184.1692873  179.08396756\n",
            " 172.44175248 183.89034279 187.10512569 174.12650695 170.72478356\n",
            " 185.09250907 178.902675   174.3803199  181.88443739 182.49132302\n",
            " 182.99147866 183.42162621 182.60401352 186.79597859 181.52553294\n",
            " 181.76581574 170.39488001 185.20960232 173.00754089 184.44281507\n",
            " 186.69140322 177.95946883 186.32992522 178.60766448 183.68394734\n",
            " 184.0937577  183.70991276 175.06758974 172.9519738  172.67080204\n",
            " 180.02456019 176.26127482 183.63187246 181.18830549 176.65198134\n",
            " 177.88121175 184.51650088 172.26748753 185.48671757 179.54469061\n",
            " 186.04710322 187.00282867 183.34196773 179.33392003 177.52357297\n",
            " 184.31914231 172.61388787 185.02178304 185.20960232 186.60718033\n",
            " 186.73332658 176.47967047 186.77512553 177.80251748 185.20960232\n",
            " 180.96942503 175.53874529 177.68364557 176.0840871  183.70991276\n",
            " 171.60941197 177.28000084 172.03172909 179.99082068 183.76170046]\n"
          ],
          "name": "stdout"
        }
      ]
    },
    {
      "cell_type": "code",
      "metadata": {
        "id": "MD6SnRr6jLAI"
      },
      "source": [
        "x_sort=x[np.argsort(x)]\r\n",
        "Urban_sort1=LpUrban1[np.argsort(x)]"
      ],
      "execution_count": 23,
      "outputs": []
    },
    {
      "cell_type": "code",
      "metadata": {
        "id": "Vqu3shbHjNNy"
      },
      "source": [
        "f=900 #MHz\r\n",
        "loc='urban'\r\n",
        "tower=80 #m\r\n",
        "user=1.5 #m\r\n",
        "dmin=200 #m\r\n",
        "dmax=700 #m\r\n",
        "N=200 #titik\r\n",
        "y=np.random.randint(dmin,dmax,N)"
      ],
      "execution_count": 24,
      "outputs": []
    },
    {
      "cell_type": "code",
      "metadata": {
        "colab": {
          "base_uri": "https://localhost:8080/"
        },
        "id": "sY-XRbN5jO8w",
        "outputId": "fc3d19ce-f046-425a-904d-baf7ef54fff8"
      },
      "source": [
        "print(y)"
      ],
      "execution_count": 25,
      "outputs": [
        {
          "output_type": "stream",
          "text": [
            "[693 595 368 466 506 625 321 356 234 223 495 217 402 678 367 307 340 222\n",
            " 612 284 692 274 509 400 396 220 428 237 585 364 457 691 507 460 699 272\n",
            " 437 429 313 540 374 400 421 238 673 546 218 420 421 265 309 264 384 571\n",
            " 381 336 380 492 575 636 683 397 479 392 261 470 382 308 523 241 563 547\n",
            " 398 664 338 668 273 407 691 521 223 369 327 265 598 313 613 550 516 671\n",
            " 385 214 330 545 490 698 540 369 494 632 296 355 508 582 586 239 514 565\n",
            " 428 600 614 673 622 492 623 506 402 223 598 680 537 304 228 473 440 691\n",
            " 403 395 506 301 528 266 455 609 503 434 425 511 698 246 325 418 696 515\n",
            " 434 589 475 513 690 677 513 613 210 687 251 497 387 548 621 200 252 627\n",
            " 416 388 455 660 234 354 492 286 547 468 641 337 356 433 659 214 434 439\n",
            " 572 574 643 296 682 584 287 532 516 400 698 574 201 661 462 475 320 504\n",
            " 606 557]\n"
          ],
          "name": "stdout"
        }
      ]
    },
    {
      "cell_type": "code",
      "metadata": {
        "id": "9b9J5GDFjRGA"
      },
      "source": [
        "LpUrban2=cos(f,loc,tower,user,y)"
      ],
      "execution_count": 26,
      "outputs": []
    },
    {
      "cell_type": "code",
      "metadata": {
        "colab": {
          "base_uri": "https://localhost:8080/"
        },
        "id": "r_ZnbqxDjTB0",
        "outputId": "52b68901-4cac-49d2-b520-cf39e1ffeacc"
      },
      "source": [
        "print(LpUrban2)"
      ],
      "execution_count": 27,
      "outputs": [
        {
          "output_type": "stream",
          "text": [
            "[177.35217621 175.20446739 168.43633356 171.76213222 172.92214846\n",
            " 175.89737285 166.5115645  167.96934369 162.05862297 161.38037988\n",
            " 172.61254836 160.99618595 169.68112241 177.04393115 168.39800364\n",
            " 165.88341161 167.32158646 161.31707084 175.60128905 164.78646686\n",
            " 177.33183507 164.28152974 173.00541711 169.61086671 169.46929529\n",
            " 161.18959271 170.5639225  162.23806792 174.96571188 168.28238408\n",
            " 171.48741899 177.31146452 172.94995941 171.57958663 177.47361005\n",
            " 164.17833339 170.8570571  170.59679589 166.15605698 173.83821129\n",
            " 168.6641483  169.61086671 170.33163535 162.29737848 176.9396654\n",
            " 173.99386191 161.06095037 170.29813655 170.33163535 163.81107362\n",
            " 165.97488101 163.75781746 169.0358384  174.62450606 168.92535754\n",
            " 167.15488348 168.88833718 172.52691748 174.7228397  176.14313422\n",
            " 177.14743079 169.50482176 172.14971453 169.32628658 163.59683014\n",
            " 171.88252815 168.96228086 165.92922056 173.38762529 162.47382635\n",
            " 174.42575514 174.01963728 169.54025886 176.75001985 167.23848158\n",
            " 176.83462213 164.23002607 169.85524375 177.31146452 173.33365497\n",
            " 161.38037988 168.47455947 166.7724282  163.81107362 175.27531198\n",
            " 166.15605698 175.624287   174.09668161 173.19781749 176.89774205\n",
            " 169.07247363 160.80008667 166.90107053 173.96803928 172.46953965\n",
            " 177.45344364 173.83821129 168.47455947 172.58406253 176.05426176\n",
            " 165.36942885 167.92971993 172.97771555 174.89328891 174.98977036\n",
            " 162.35644036 173.14311358 174.47570639 170.5639225  175.32234454\n",
            " 175.64724745 176.9396654  175.82959612 172.52691748 175.85222462\n",
            " 172.92214846 169.68112241 161.38037988 175.27531198 177.0854223\n",
            " 173.75973622 165.74508411 161.6927261  171.97215456 170.95342854\n",
            " 177.31146452 169.71611929 169.433679   172.92214846 165.60538474\n",
            " 173.5216533  163.8641292  171.42563715 175.53206907 172.83838466\n",
            " 170.76002179 170.46483953 173.06065732 177.45344364 162.76308164\n",
            " 166.68600929 170.23089901 177.41302399 173.17049209 170.76002179\n",
            " 175.06170024 172.03159025 173.11568176 177.29106446 177.02313965\n",
            " 173.11568176 175.624287   160.53430071 177.22968642 163.0465165\n",
            " 172.66934778 169.14545948 174.04536557 175.80693121 159.84703087\n",
            " 163.10252547 175.94237684 170.16333899 169.18181108 171.42563715\n",
            " 176.66490637 162.05862297 167.8899844  172.52691748 164.88531806\n",
            " 174.01963728 171.82245881 176.25344205 167.19674455 167.96934369\n",
            " 170.72752757 176.6435474  160.80008667 170.76002179 170.92137793\n",
            " 174.6491539  174.69832057 176.29732444 165.36942885 177.12679161\n",
            " 174.94161224 164.93448473 173.62796503 173.19781749 169.61086671\n",
            " 177.45344364 174.69832057 159.91728657 176.686233   171.64069839\n",
            " 172.03159025 166.46761364 172.86636131 175.46250726 174.27482972]\n"
          ],
          "name": "stdout"
        }
      ]
    },
    {
      "cell_type": "code",
      "metadata": {
        "id": "ppQG0IyhjVbQ"
      },
      "source": [
        "y_sort=y[np.argsort(y)]\r\n",
        "Urban_sort2=LpUrban2[np.argsort(y)]"
      ],
      "execution_count": 28,
      "outputs": []
    },
    {
      "cell_type": "code",
      "metadata": {
        "id": "r1801B4MjXhI"
      },
      "source": [
        "f=700 #MHz\r\n",
        "loc='urban'\r\n",
        "tower=80 #m\r\n",
        "user=1.5 #m\r\n",
        "dmin=200 #m\r\n",
        "dmax=700 #m\r\n",
        "N=200 #titik\r\n",
        "z=np.random.randint(dmin,dmax,N)"
      ],
      "execution_count": 29,
      "outputs": []
    },
    {
      "cell_type": "code",
      "metadata": {
        "colab": {
          "base_uri": "https://localhost:8080/"
        },
        "id": "MQddeiUHjZVs",
        "outputId": "2ca94d0a-5978-4afb-f4b9-f394b01153e6"
      },
      "source": [
        "print(z)"
      ],
      "execution_count": 30,
      "outputs": [
        {
          "output_type": "stream",
          "text": [
            "[252 523 209 578 601 535 304 669 607 352 689 451 343 530 542 599 239 290\n",
            " 496 285 697 377 272 592 410 446 522 329 599 647 498 391 503 591 212 361\n",
            " 399 259 694 503 452 254 330 614 545 402 382 363 329 206 604 202 619 658\n",
            " 260 517 371 290 201 565 593 509 258 409 395 279 393 435 643 503 635 238\n",
            " 657 346 328 292 227 606 220 430 633 471 526 449 314 234 496 694 390 388\n",
            " 432 453 397 497 698 231 530 355 548 227 623 324 288 232 320 374 459 560\n",
            " 241 515 208 254 485 244 257 302 374 259 232 591 659 631 602 676 266 264\n",
            " 666 674 528 607 565 415 386 211 273 381 662 500 452 485 493 541 465 315\n",
            " 591 604 210 280 413 611 512 634 552 402 244 604 483 371 262 211 537 622\n",
            " 668 638 202 622 214 354 200 501 495 356 268 201 615 400 229 609 595 275\n",
            " 219 690 272 428 554 585 604 242 479 211 388 611 667 610 495 632 610 644\n",
            " 533 435]\n"
          ],
          "name": "stdout"
        }
      ]
    },
    {
      "cell_type": "code",
      "metadata": {
        "id": "EP-MAqsmjbPB"
      },
      "source": [
        "LpUrban3=cos(f,loc,tower,user,z)"
      ],
      "execution_count": 31,
      "outputs": []
    },
    {
      "cell_type": "code",
      "metadata": {
        "colab": {
          "base_uri": "https://localhost:8080/"
        },
        "id": "VqClVa2HjdJI",
        "outputId": "c5099009-2c54-4fcd-fdb9-cda9a8c166e3"
      },
      "source": [
        "print(LpUrban3)"
      ],
      "execution_count": 32,
      "outputs": [
        {
          "output_type": "stream",
          "text": [
            "[160.25712916 170.54222897 157.62166686 171.95074574 172.50040574\n",
            " 170.86177926 162.89968779 174.01029723 172.6403364  164.96477916\n",
            " 174.4252385  168.45585823 164.59993534 170.72951314 171.04488984\n",
            " 172.45345157 159.51104404 162.23556707 169.79558038 161.99058285\n",
            " 174.58785199 165.93129243 161.33293708 172.28786837 167.1132964\n",
            " 168.2988194  170.51526966 164.01292384 172.45345157 173.53928492\n",
            " 169.85226552 166.44491007 169.99298835 172.26405393 157.82242424\n",
            " 165.32041133 166.73021071 160.64307761 174.52709171 169.99298835\n",
            " 168.487057   160.36848339 164.05567422 172.80185113 171.12264296\n",
            " 166.83572609 166.11688454 165.39823605 164.01292384 157.41800686\n",
            " 172.57054483 157.14179728 172.91609537 173.77675968 160.69735991\n",
            " 170.37969366 165.70530516 162.23556707 157.07189025 171.63031007\n",
            " 172.31164261 170.16002079 160.58858533 167.07889776 166.58828268\n",
            " 161.69086436 166.51677878 167.9470449  173.45192813 169.99298835\n",
            " 173.2755723  159.45198216 173.75533574 164.72260292 163.97004333\n",
            " 162.33238008 158.78541216 172.61711095 158.34419639 167.78419641\n",
            " 173.23113618 169.06707071 170.62279871 168.39325263 163.35559288\n",
            " 159.21322666 169.79558038 174.52709171 166.40883774 166.33641476\n",
            " 167.8495619  168.51818682 166.65942544 169.82395147 174.60804732\n",
            " 159.03146623 170.72951314 165.08432361 171.19996926 158.78541216\n",
            " 173.0068283  163.79720389 162.13808407 159.092314   163.62221732\n",
            " 165.81875198 168.70353472 171.50509824 159.62843003 170.32509577\n",
            " 157.55410684 160.36848339 169.47966783 159.80269499 160.53388143\n",
            " 162.80670899 165.81875198 160.64307761 159.092314   172.26405393\n",
            " 173.79815109 173.18655944 172.52382426 174.1569211  161.01873288\n",
            " 160.91242115 173.94698819 174.11518407 170.67625698 172.6403364\n",
            " 171.63031007 167.28404076 166.26361751 157.75582252 161.38462975\n",
            " 166.07996122 173.86213108 169.90872346 168.487057   169.47966783\n",
            " 169.71012266 171.01887647 168.88647544 163.40038223 172.26405393\n",
            " 172.57054483 157.6889044  161.74126241 167.21599117 172.73285718\n",
            " 170.24280009 173.25337176 171.30241507 166.83572609 159.80269499\n",
            " 172.57054483 169.42146015 165.70530516 160.80530095 157.75582252\n",
            " 170.91433991 172.9841998  173.98922581 173.34196474 157.14179728\n",
            " 172.9841998  157.95469035 165.04458808 157.00163455 169.9368678\n",
            " 169.76715204 165.12394737 161.12424826 157.07189025 172.82477423\n",
            " 166.76547039 158.90897644 172.68667275 172.35907107 161.48744946\n",
            " 158.28002207 174.44566814 161.33293708 167.71852619 171.35335993\n",
            " 172.12031556 172.57054483 159.68675822 169.30431821 157.75582252\n",
            " 166.33641476 172.73285718 173.96812283 172.7097839  169.76715204\n",
            " 173.20886545 172.7097839  173.47381816 170.80902175 167.9470449 ]\n"
          ],
          "name": "stdout"
        }
      ]
    },
    {
      "cell_type": "code",
      "metadata": {
        "id": "u0Tutgbrjg9E"
      },
      "source": [
        "z_sort=z[np.argsort(z)]\r\n",
        "Urban_sort3=LpUrban3[np.argsort(z)]"
      ],
      "execution_count": 33,
      "outputs": []
    },
    {
      "cell_type": "code",
      "metadata": {
        "colab": {
          "base_uri": "https://localhost:8080/",
          "height": 295
        },
        "id": "efHdZ5P_jjNL",
        "outputId": "3da7762d-e25a-47fe-9cad-8f4a572091d6"
      },
      "source": [
        "plt.figure()\r\n",
        "plt.plot(x_sort,Urban_sort1, label='700 Mhz')\r\n",
        "plt.plot(y_sort,Urban_sort2, label='900 Mhz')\r\n",
        "plt.plot(z_sort,Urban_sort3, label='1800 Mhz')\r\n",
        "plt.legend()\r\n",
        "plt.title('Model Urban (Contoh Gambar)')\r\n",
        "plt.xlabel('Jarak (m)')\r\n",
        "plt.ylabel('Path Loss (dB)')\r\n",
        "plt.show()"
      ],
      "execution_count": 34,
      "outputs": [
        {
          "output_type": "display_data",
          "data": {
            "image/png": "[encoded data removed]",
            "text/plain": [
              "<Figure size 432x288 with 1 Axes>"
            ]
          },
          "metadata": {
            "tags": [],
            "needs_background": "light"
          }
        }
      ]
    },
    {
      "cell_type": "code",
      "metadata": {
        "id": "gN_jXMFPkjsD"
      },
      "source": [
        ""
      ],
      "execution_count": null,
      "outputs": []
    }
  ]
}
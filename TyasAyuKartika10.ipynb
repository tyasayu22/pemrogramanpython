{
  "nbformat": 4,
  "nbformat_minor": 0,
  "metadata": {
    "colab": {
      "name": "TyasAyuKartika10.ipynb",
      "provenance": [],
      "collapsed_sections": [],
      "include_colab_link": true
    },
    "kernelspec": {
      "name": "python3",
      "display_name": "Python 3"
    }
  },
  "cells": [
    {
      "cell_type": "markdown",
      "metadata": {
        "id": "view-in-github",
        "colab_type": "text"
      },
      "source": [
        "<a href=\"https://colab.research.google.com/github/tyasayu22/pemrogramanpython/blob/main/TyasAyuKartika10.ipynb\" target=\"_parent\"><img src=\"https://colab.research.google.com/assets/colab-badge.svg\" alt=\"Open In Colab\"/></a>"
      ]
    },
    {
      "cell_type": "code",
      "metadata": {
        "colab": {
          "base_uri": "https://localhost:8080/"
        },
        "id": "PDQzpZyIJ_Lb",
        "outputId": "d7a5c509-5c19-4e48-9709-a83d7d296653"
      },
      "source": [
        "from google.colab import drive\n",
        "drive.mount('/content/drive')"
      ],
      "execution_count": null,
      "outputs": [
        {
          "output_type": "stream",
          "text": [
            "Drive already mounted at /content/drive; to attempt to forcibly remount, call drive.mount(\"/content/drive\", force_remount=True).\n"
          ],
          "name": "stdout"
        }
      ]
    },
    {
      "cell_type": "code",
      "metadata": {
        "colab": {
          "base_uri": "https://localhost:8080/"
        },
        "id": "6sVWhnDAKYkX",
        "outputId": "04b402aa-ea4d-4bd7-f3de-a51eac04504e"
      },
      "source": [
        "cd /content/drive/MyDrive/Colab Notebooks"
      ],
      "execution_count": null,
      "outputs": [
        {
          "output_type": "stream",
          "text": [
            "/content/drive/MyDrive/Colab Notebooks\n"
          ],
          "name": "stdout"
        }
      ]
    },
    {
      "cell_type": "code",
      "metadata": {
        "colab": {
          "base_uri": "https://localhost:8080/"
        },
        "id": "S-dXjNq8K2cD",
        "outputId": "dace7120-45a9-4077-a6d3-aae84cc1aaeb"
      },
      "source": [
        "ls"
      ],
      "execution_count": null,
      "outputs": [
        {
          "output_type": "stream",
          "text": [
            " \u001b[0m\u001b[01;36m3scene\u001b[0m@        best_weight_scene_mobileNet.h5   \u001b[01;34mmodel_3scene_python_fix\u001b[0m/\n",
            "\u001b[01;34m'3scene (1)'\u001b[0m/   highway_a866041.jpg              Untitled0.ipynb\n"
          ],
          "name": "stdout"
        }
      ]
    },
    {
      "cell_type": "code",
      "metadata": {
        "id": "VWhaFidPK_6A"
      },
      "source": [
        "from keras.models import Sequential\n",
        "from keras.layers.convolutional import Conv2D\n",
        "from keras.layers.convolutional import MaxPooling2D\n",
        "from keras.layers.core import Activation\n",
        "from keras.layers.core import Flatten\n",
        "from keras.layers.core import Dense\n",
        "from keras.optimizers import Adam\n",
        "from sklearn.preprocessing import LabelBinarizer\n",
        "from sklearn.model_selection import train_test_split\n",
        "from sklearn.metrics import classification_report\n",
        "from PIL import Image\n",
        "from imutils import paths\n",
        "import numpy as np\n",
        "import os"
      ],
      "execution_count": null,
      "outputs": []
    },
    {
      "cell_type": "code",
      "metadata": {
        "colab": {
          "base_uri": "https://localhost:8080/"
        },
        "id": "age5UMp0LLDO",
        "outputId": "5c308bfa-1f55-42ba-a500-e51b0d5e9ac8"
      },
      "source": [
        "print(\"[INFO] loading images...\")\n",
        "imagePaths = paths.list_images(\"3scene\")\n",
        "data = []\n",
        "labels = []"
      ],
      "execution_count": null,
      "outputs": [
        {
          "output_type": "stream",
          "text": [
            "[INFO] loading images...\n"
          ],
          "name": "stdout"
        }
      ]
    },
    {
      "cell_type": "code",
      "metadata": {
        "id": "_7eUuYLhLV8G"
      },
      "source": [
        "for imagePath in imagePaths:\n",
        "\t# load the input image from disk, resize it to 64x64 pixels, scale\n",
        "\t# the pixel intensities to the range [0, 1], and then update our\n",
        "\t# images list\n",
        "\timage = Image.open(imagePath)\n",
        "\timage = np.array(image.resize((64, 64))) / 255.0\n",
        "\tdata.append(image)\n",
        "\n",
        "\t# extract the class label from the file path and update the\n",
        "\t# labels list\n",
        "\tlabel = imagePath.split(os.path.sep)[-2]\n",
        "\tlabels.append(label)"
      ],
      "execution_count": null,
      "outputs": []
    },
    {
      "cell_type": "code",
      "metadata": {
        "id": "srt4fZUIMF_A"
      },
      "source": [
        "lb = LabelBinarizer()\n",
        "labels = lb.fit_transform(labels)"
      ],
      "execution_count": null,
      "outputs": []
    },
    {
      "cell_type": "code",
      "metadata": {
        "colab": {
          "base_uri": "https://localhost:8080/"
        },
        "id": "en1_u85OMQIL",
        "outputId": "73259ae1-826e-4b3e-8d6e-a3c1ee08fd9a"
      },
      "source": [
        "print(labels)"
      ],
      "execution_count": null,
      "outputs": [
        {
          "output_type": "stream",
          "text": [
            "[[0 1 0]\n",
            " [0 1 0]\n",
            " [0 1 0]\n",
            " ...\n",
            " [1 0 0]\n",
            " [1 0 0]\n",
            " [1 0 0]]\n"
          ],
          "name": "stdout"
        }
      ]
    },
    {
      "cell_type": "code",
      "metadata": {
        "colab": {
          "base_uri": "https://localhost:8080/"
        },
        "id": "DhlGTlgCMXjA",
        "outputId": "1d014f93-f802-43a0-eae2-ca58b91e2e17"
      },
      "source": [
        "# perform a training and testing split, using 75% of the data for\n",
        "# training and 25% for evaluation\n",
        "(trainX, testX, trainY, testY) = train_test_split(np.array(data),\tnp.array(labels), test_size=0.25)\n",
        "print(trainX.shape)\n",
        "print(testX.shape)"
      ],
      "execution_count": null,
      "outputs": [
        {
          "output_type": "stream",
          "text": [
            "(711, 64, 64, 3)\n",
            "(237, 64, 64, 3)\n"
          ],
          "name": "stdout"
        }
      ]
    },
    {
      "cell_type": "code",
      "metadata": {
        "id": "iboigNTjMkCQ"
      },
      "source": [
        "from keras.applications.mobilenet import MobileNet\n",
        "from keras.callbacks import EarlyStopping, ModelCheckpoint\n",
        "from keras.models import Model\n",
        "from keras.layers import GlobalAveragePooling2D, BatchNormalization"
      ],
      "execution_count": null,
      "outputs": []
    },
    {
      "cell_type": "code",
      "metadata": {
        "colab": {
          "base_uri": "https://localhost:8080/"
        },
        "id": "dGbelrntMpxe",
        "outputId": "9313b602-177f-4015-c5ff-ad9d9e91a080"
      },
      "source": [
        "from keras.layers import Dropout\n",
        "base_model = MobileNet(weights='imagenet', include_top=False)\n",
        "x = base_model.output\n",
        "x = GlobalAveragePooling2D()(x)\n",
        "x = Dropout(0.5)(x)\n",
        "x = BatchNormalization()(x)\n",
        "x = Dense(512, activation='relu')(x)\n",
        "out = Dense(3, activation='softmax')(x)\n",
        "\n",
        "model = Model(inputs=base_model.input, outputs=out)\n",
        "model.summary()"
      ],
      "execution_count": null,
      "outputs": [
        {
          "output_type": "stream",
          "text": [
            "WARNING:tensorflow:`input_shape` is undefined or non-square, or `rows` is not in [128, 160, 192, 224]. Weights for input shape (224, 224) will be loaded as the default.\n",
            "Downloading data from https://storage.googleapis.com/tensorflow/keras-applications/mobilenet/mobilenet_1_0_224_tf_no_top.h5\n",
            "17227776/17225924 [==============================] - 0s 0us/step\n",
            "Model: \"functional_1\"\n",
            "_________________________________________________________________\n",
            "Layer (type)                 Output Shape              Param #   \n",
            "=================================================================\n",
            "input_1 (InputLayer)         [(None, None, None, 3)]   0         \n",
            "_________________________________________________________________\n",
            "conv1_pad (ZeroPadding2D)    (None, None, None, 3)     0         \n",
            "_________________________________________________________________\n",
            "conv1 (Conv2D)               (None, None, None, 32)    864       \n",
            "_________________________________________________________________\n",
            "conv1_bn (BatchNormalization (None, None, None, 32)    128       \n",
            "_________________________________________________________________\n",
            "conv1_relu (ReLU)            (None, None, None, 32)    0         \n",
            "_________________________________________________________________\n",
            "conv_dw_1 (DepthwiseConv2D)  (None, None, None, 32)    288       \n",
            "_________________________________________________________________\n",
            "conv_dw_1_bn (BatchNormaliza (None, None, None, 32)    128       \n",
            "_________________________________________________________________\n",
            "conv_dw_1_relu (ReLU)        (None, None, None, 32)    0         \n",
            "_________________________________________________________________\n",
            "conv_pw_1 (Conv2D)           (None, None, None, 64)    2048      \n",
            "_________________________________________________________________\n",
            "conv_pw_1_bn (BatchNormaliza (None, None, None, 64)    256       \n",
            "_________________________________________________________________\n",
            "conv_pw_1_relu (ReLU)        (None, None, None, 64)    0         \n",
            "_________________________________________________________________\n",
            "conv_pad_2 (ZeroPadding2D)   (None, None, None, 64)    0         \n",
            "_________________________________________________________________\n",
            "conv_dw_2 (DepthwiseConv2D)  (None, None, None, 64)    576       \n",
            "_________________________________________________________________\n",
            "conv_dw_2_bn (BatchNormaliza (None, None, None, 64)    256       \n",
            "_________________________________________________________________\n",
            "conv_dw_2_relu (ReLU)        (None, None, None, 64)    0         \n",
            "_________________________________________________________________\n",
            "conv_pw_2 (Conv2D)           (None, None, None, 128)   8192      \n",
            "_________________________________________________________________\n",
            "conv_pw_2_bn (BatchNormaliza (None, None, None, 128)   512       \n",
            "_________________________________________________________________\n",
            "conv_pw_2_relu (ReLU)        (None, None, None, 128)   0         \n",
            "_________________________________________________________________\n",
            "conv_dw_3 (DepthwiseConv2D)  (None, None, None, 128)   1152      \n",
            "_________________________________________________________________\n",
            "conv_dw_3_bn (BatchNormaliza (None, None, None, 128)   512       \n",
            "_________________________________________________________________\n",
            "conv_dw_3_relu (ReLU)        (None, None, None, 128)   0         \n",
            "_________________________________________________________________\n",
            "conv_pw_3 (Conv2D)           (None, None, None, 128)   16384     \n",
            "_________________________________________________________________\n",
            "conv_pw_3_bn (BatchNormaliza (None, None, None, 128)   512       \n",
            "_________________________________________________________________\n",
            "conv_pw_3_relu (ReLU)        (None, None, None, 128)   0         \n",
            "_________________________________________________________________\n",
            "conv_pad_4 (ZeroPadding2D)   (None, None, None, 128)   0         \n",
            "_________________________________________________________________\n",
            "conv_dw_4 (DepthwiseConv2D)  (None, None, None, 128)   1152      \n",
            "_________________________________________________________________\n",
            "conv_dw_4_bn (BatchNormaliza (None, None, None, 128)   512       \n",
            "_________________________________________________________________\n",
            "conv_dw_4_relu (ReLU)        (None, None, None, 128)   0         \n",
            "_________________________________________________________________\n",
            "conv_pw_4 (Conv2D)           (None, None, None, 256)   32768     \n",
            "_________________________________________________________________\n",
            "conv_pw_4_bn (BatchNormaliza (None, None, None, 256)   1024      \n",
            "_________________________________________________________________\n",
            "conv_pw_4_relu (ReLU)        (None, None, None, 256)   0         \n",
            "_________________________________________________________________\n",
            "conv_dw_5 (DepthwiseConv2D)  (None, None, None, 256)   2304      \n",
            "_________________________________________________________________\n",
            "conv_dw_5_bn (BatchNormaliza (None, None, None, 256)   1024      \n",
            "_________________________________________________________________\n",
            "conv_dw_5_relu (ReLU)        (None, None, None, 256)   0         \n",
            "_________________________________________________________________\n",
            "conv_pw_5 (Conv2D)           (None, None, None, 256)   65536     \n",
            "_________________________________________________________________\n",
            "conv_pw_5_bn (BatchNormaliza (None, None, None, 256)   1024      \n",
            "_________________________________________________________________\n",
            "conv_pw_5_relu (ReLU)        (None, None, None, 256)   0         \n",
            "_________________________________________________________________\n",
            "conv_pad_6 (ZeroPadding2D)   (None, None, None, 256)   0         \n",
            "_________________________________________________________________\n",
            "conv_dw_6 (DepthwiseConv2D)  (None, None, None, 256)   2304      \n",
            "_________________________________________________________________\n",
            "conv_dw_6_bn (BatchNormaliza (None, None, None, 256)   1024      \n",
            "_________________________________________________________________\n",
            "conv_dw_6_relu (ReLU)        (None, None, None, 256)   0         \n",
            "_________________________________________________________________\n",
            "conv_pw_6 (Conv2D)           (None, None, None, 512)   131072    \n",
            "_________________________________________________________________\n",
            "conv_pw_6_bn (BatchNormaliza (None, None, None, 512)   2048      \n",
            "_________________________________________________________________\n",
            "conv_pw_6_relu (ReLU)        (None, None, None, 512)   0         \n",
            "_________________________________________________________________\n",
            "conv_dw_7 (DepthwiseConv2D)  (None, None, None, 512)   4608      \n",
            "_________________________________________________________________\n",
            "conv_dw_7_bn (BatchNormaliza (None, None, None, 512)   2048      \n",
            "_________________________________________________________________\n",
            "conv_dw_7_relu (ReLU)        (None, None, None, 512)   0         \n",
            "_________________________________________________________________\n",
            "conv_pw_7 (Conv2D)           (None, None, None, 512)   262144    \n",
            "_________________________________________________________________\n",
            "conv_pw_7_bn (BatchNormaliza (None, None, None, 512)   2048      \n",
            "_________________________________________________________________\n",
            "conv_pw_7_relu (ReLU)        (None, None, None, 512)   0         \n",
            "_________________________________________________________________\n",
            "conv_dw_8 (DepthwiseConv2D)  (None, None, None, 512)   4608      \n",
            "_________________________________________________________________\n",
            "conv_dw_8_bn (BatchNormaliza (None, None, None, 512)   2048      \n",
            "_________________________________________________________________\n",
            "conv_dw_8_relu (ReLU)        (None, None, None, 512)   0         \n",
            "_________________________________________________________________\n",
            "conv_pw_8 (Conv2D)           (None, None, None, 512)   262144    \n",
            "_________________________________________________________________\n",
            "conv_pw_8_bn (BatchNormaliza (None, None, None, 512)   2048      \n",
            "_________________________________________________________________\n",
            "conv_pw_8_relu (ReLU)        (None, None, None, 512)   0         \n",
            "_________________________________________________________________\n",
            "conv_dw_9 (DepthwiseConv2D)  (None, None, None, 512)   4608      \n",
            "_________________________________________________________________\n",
            "conv_dw_9_bn (BatchNormaliza (None, None, None, 512)   2048      \n",
            "_________________________________________________________________\n",
            "conv_dw_9_relu (ReLU)        (None, None, None, 512)   0         \n",
            "_________________________________________________________________\n",
            "conv_pw_9 (Conv2D)           (None, None, None, 512)   262144    \n",
            "_________________________________________________________________\n",
            "conv_pw_9_bn (BatchNormaliza (None, None, None, 512)   2048      \n",
            "_________________________________________________________________\n",
            "conv_pw_9_relu (ReLU)        (None, None, None, 512)   0         \n",
            "_________________________________________________________________\n",
            "conv_dw_10 (DepthwiseConv2D) (None, None, None, 512)   4608      \n",
            "_________________________________________________________________\n",
            "conv_dw_10_bn (BatchNormaliz (None, None, None, 512)   2048      \n",
            "_________________________________________________________________\n",
            "conv_dw_10_relu (ReLU)       (None, None, None, 512)   0         \n",
            "_________________________________________________________________\n",
            "conv_pw_10 (Conv2D)          (None, None, None, 512)   262144    \n",
            "_________________________________________________________________\n",
            "conv_pw_10_bn (BatchNormaliz (None, None, None, 512)   2048      \n",
            "_________________________________________________________________\n",
            "conv_pw_10_relu (ReLU)       (None, None, None, 512)   0         \n",
            "_________________________________________________________________\n",
            "conv_dw_11 (DepthwiseConv2D) (None, None, None, 512)   4608      \n",
            "_________________________________________________________________\n",
            "conv_dw_11_bn (BatchNormaliz (None, None, None, 512)   2048      \n",
            "_________________________________________________________________\n",
            "conv_dw_11_relu (ReLU)       (None, None, None, 512)   0         \n",
            "_________________________________________________________________\n",
            "conv_pw_11 (Conv2D)          (None, None, None, 512)   262144    \n",
            "_________________________________________________________________\n",
            "conv_pw_11_bn (BatchNormaliz (None, None, None, 512)   2048      \n",
            "_________________________________________________________________\n",
            "conv_pw_11_relu (ReLU)       (None, None, None, 512)   0         \n",
            "_________________________________________________________________\n",
            "conv_pad_12 (ZeroPadding2D)  (None, None, None, 512)   0         \n",
            "_________________________________________________________________\n",
            "conv_dw_12 (DepthwiseConv2D) (None, None, None, 512)   4608      \n",
            "_________________________________________________________________\n",
            "conv_dw_12_bn (BatchNormaliz (None, None, None, 512)   2048      \n",
            "_________________________________________________________________\n",
            "conv_dw_12_relu (ReLU)       (None, None, None, 512)   0         \n",
            "_________________________________________________________________\n",
            "conv_pw_12 (Conv2D)          (None, None, None, 1024)  524288    \n",
            "_________________________________________________________________\n",
            "conv_pw_12_bn (BatchNormaliz (None, None, None, 1024)  4096      \n",
            "_________________________________________________________________\n",
            "conv_pw_12_relu (ReLU)       (None, None, None, 1024)  0         \n",
            "_________________________________________________________________\n",
            "conv_dw_13 (DepthwiseConv2D) (None, None, None, 1024)  9216      \n",
            "_________________________________________________________________\n",
            "conv_dw_13_bn (BatchNormaliz (None, None, None, 1024)  4096      \n",
            "_________________________________________________________________\n",
            "conv_dw_13_relu (ReLU)       (None, None, None, 1024)  0         \n",
            "_________________________________________________________________\n",
            "conv_pw_13 (Conv2D)          (None, None, None, 1024)  1048576   \n",
            "_________________________________________________________________\n",
            "conv_pw_13_bn (BatchNormaliz (None, None, None, 1024)  4096      \n",
            "_________________________________________________________________\n",
            "conv_pw_13_relu (ReLU)       (None, None, None, 1024)  0         \n",
            "_________________________________________________________________\n",
            "global_average_pooling2d (Gl (None, 1024)              0         \n",
            "_________________________________________________________________\n",
            "dropout (Dropout)            (None, 1024)              0         \n",
            "_________________________________________________________________\n",
            "batch_normalization (BatchNo (None, 1024)              4096      \n",
            "_________________________________________________________________\n",
            "dense (Dense)                (None, 512)               524800    \n",
            "_________________________________________________________________\n",
            "dense_1 (Dense)              (None, 3)                 1539      \n",
            "=================================================================\n",
            "Total params: 3,759,299\n",
            "Trainable params: 3,735,363\n",
            "Non-trainable params: 23,936\n",
            "_________________________________________________________________\n"
          ],
          "name": "stdout"
        }
      ]
    },
    {
      "cell_type": "code",
      "metadata": {
        "id": "y5ZTvquAMw_o"
      },
      "source": [
        "es = EarlyStopping(monitor='val_loss',\n",
        "                   patience=5,\n",
        "                   mode='auto',\n",
        "                   restore_best_weights=True)\n",
        "checkpoint = ModelCheckpoint('best_weight_scene_mobileNet.h5',\n",
        "                             monitor='val_accuracy',\n",
        "                             verbose=1,\n",
        "                             save_best_only=True,\n",
        "                             mode='auto',)"
      ],
      "execution_count": null,
      "outputs": []
    },
    {
      "cell_type": "code",
      "metadata": {
        "id": "AcbiPH8aM8j2"
      },
      "source": [
        "from keras.models import Sequential\n",
        "from keras.layers.core import Flatten\n",
        "from keras.layers.core import Dense\n",
        "\n",
        "model = Sequential(\n",
        "    [\n",
        "        Flatten(input_shape=(64*64*3,)),\n",
        "        Dense(100, activation=\"relu\", name=\"layer1\"),\n",
        "        Dense(16, activation=\"relu\", name=\"layer2\"),\n",
        "        Dense(16, activation=\"relu\", name=\"layer3\"),\n",
        "        Dense(3, activation = \"softmax\", name=\"layer4\"),\n",
        "    ]\n",
        ")"
      ],
      "execution_count": null,
      "outputs": []
    },
    {
      "cell_type": "code",
      "metadata": {
        "colab": {
          "base_uri": "https://localhost:8080/"
        },
        "id": "oQwPuo2VNCOn",
        "outputId": "b87c4f49-dedb-4f60-991f-0b0a4426492d"
      },
      "source": [
        "model.summary()"
      ],
      "execution_count": null,
      "outputs": [
        {
          "output_type": "stream",
          "text": [
            "Model: \"sequential\"\n",
            "_________________________________________________________________\n",
            "Layer (type)                 Output Shape              Param #   \n",
            "=================================================================\n",
            "flatten (Flatten)            (None, 12288)             0         \n",
            "_________________________________________________________________\n",
            "layer1 (Dense)               (None, 100)               1228900   \n",
            "_________________________________________________________________\n",
            "layer2 (Dense)               (None, 16)                1616      \n",
            "_________________________________________________________________\n",
            "layer3 (Dense)               (None, 16)                272       \n",
            "_________________________________________________________________\n",
            "layer4 (Dense)               (None, 3)                 51        \n",
            "=================================================================\n",
            "Total params: 1,230,839\n",
            "Trainable params: 1,230,839\n",
            "Non-trainable params: 0\n",
            "_________________________________________________________________\n"
          ],
          "name": "stdout"
        }
      ]
    },
    {
      "cell_type": "code",
      "metadata": {
        "colab": {
          "base_uri": "https://localhost:8080/"
        },
        "id": "x3A9IZn1NMi9",
        "outputId": "63ad09e5-f4d8-4b11-f546-ead40bfd48b9"
      },
      "source": [
        "# train the model using the Adam optimizer\n",
        "print(\"[INFO] training network...\")\n",
        "opt = Adam(lr=1e-3, decay=1e-3 / 50)\n",
        "model.compile(loss=\"categorical_crossentropy\", optimizer=opt,\n",
        "\tmetrics=[\"accuracy\"])\n",
        "H = model.fit(trainX, trainY, validation_data=(testX, testY), epochs=25, batch_size=32, callbacks=[es, checkpoint])\n"
      ],
      "execution_count": null,
      "outputs": [
        {
          "output_type": "stream",
          "text": [
            "[INFO] training network...\n",
            "Epoch 1/25\n",
            "WARNING:tensorflow:Model was constructed with shape (None, 12288) for input Tensor(\"flatten_input:0\", shape=(None, 12288), dtype=float32), but it was called on an input with incompatible shape (None, 64, 64, 3).\n",
            "WARNING:tensorflow:Model was constructed with shape (None, 12288) for input Tensor(\"flatten_input:0\", shape=(None, 12288), dtype=float32), but it was called on an input with incompatible shape (None, 64, 64, 3).\n",
            "19/23 [=======================>......] - ETA: 0s - loss: 1.1735 - accuracy: 0.3668WARNING:tensorflow:Model was constructed with shape (None, 12288) for input Tensor(\"flatten_input:0\", shape=(None, 12288), dtype=float32), but it was called on an input with incompatible shape (None, 64, 64, 3).\n",
            "\n",
            "Epoch 00001: val_accuracy improved from -inf to 0.29958, saving model to best_weight_scene_mobileNet.h5\n",
            "23/23 [==============================] - 4s 188ms/step - loss: 1.1613 - accuracy: 0.3586 - val_loss: 1.0945 - val_accuracy: 0.2996\n",
            "Epoch 2/25\n",
            "18/23 [======================>.......] - ETA: 0s - loss: 1.0823 - accuracy: 0.2882\n",
            "Epoch 00002: val_accuracy improved from 0.29958 to 0.42194, saving model to best_weight_scene_mobileNet.h5\n",
            "23/23 [==============================] - 0s 15ms/step - loss: 1.0901 - accuracy: 0.3122 - val_loss: 1.0673 - val_accuracy: 0.4219\n",
            "Epoch 3/25\n",
            "23/23 [==============================] - ETA: 0s - loss: 1.1000 - accuracy: 0.3544\n",
            "Epoch 00003: val_accuracy did not improve from 0.42194\n",
            "23/23 [==============================] - 0s 12ms/step - loss: 1.1000 - accuracy: 0.3544 - val_loss: 1.0999 - val_accuracy: 0.3460\n",
            "Epoch 4/25\n",
            "19/23 [=======================>......] - ETA: 0s - loss: 1.0986 - accuracy: 0.3454\n",
            "Epoch 00004: val_accuracy did not improve from 0.42194\n",
            "23/23 [==============================] - 0s 11ms/step - loss: 1.0985 - accuracy: 0.3474 - val_loss: 1.0976 - val_accuracy: 0.3460\n",
            "Epoch 5/25\n",
            "19/23 [=======================>......] - ETA: 0s - loss: 1.0972 - accuracy: 0.3586\n",
            "Epoch 00005: val_accuracy did not improve from 0.42194\n",
            "23/23 [==============================] - 0s 11ms/step - loss: 1.0976 - accuracy: 0.3488 - val_loss: 1.0952 - val_accuracy: 0.3460\n",
            "Epoch 6/25\n",
            "19/23 [=======================>......] - ETA: 0s - loss: 1.0922 - accuracy: 0.3503\n",
            "Epoch 00006: val_accuracy did not improve from 0.42194\n",
            "23/23 [==============================] - 0s 11ms/step - loss: 1.0892 - accuracy: 0.3446 - val_loss: 1.0468 - val_accuracy: 0.3418\n",
            "Epoch 7/25\n",
            "18/23 [======================>.......] - ETA: 0s - loss: 1.0526 - accuracy: 0.2882\n",
            "Epoch 00007: val_accuracy did not improve from 0.42194\n",
            "23/23 [==============================] - 0s 11ms/step - loss: 1.0542 - accuracy: 0.2869 - val_loss: 1.0353 - val_accuracy: 0.3376\n",
            "Epoch 8/25\n",
            "19/23 [=======================>......] - ETA: 0s - loss: 1.0453 - accuracy: 0.3289\n",
            "Epoch 00008: val_accuracy did not improve from 0.42194\n",
            "23/23 [==============================] - 0s 11ms/step - loss: 1.0365 - accuracy: 0.3333 - val_loss: 1.0237 - val_accuracy: 0.3418\n",
            "Epoch 9/25\n",
            "18/23 [======================>.......] - ETA: 0s - loss: 1.0298 - accuracy: 0.3420\n",
            "Epoch 00009: val_accuracy improved from 0.42194 to 0.51055, saving model to best_weight_scene_mobileNet.h5\n",
            "23/23 [==============================] - 0s 17ms/step - loss: 1.0332 - accuracy: 0.3474 - val_loss: 1.0399 - val_accuracy: 0.5105\n",
            "Epoch 10/25\n",
            "22/23 [===========================>..] - ETA: 0s - loss: 1.0174 - accuracy: 0.4673\n",
            "Epoch 00010: val_accuracy did not improve from 0.51055\n",
            "23/23 [==============================] - 0s 12ms/step - loss: 1.0175 - accuracy: 0.4669 - val_loss: 1.0194 - val_accuracy: 0.4557\n",
            "Epoch 11/25\n",
            "19/23 [=======================>......] - ETA: 0s - loss: 0.9942 - accuracy: 0.5362\n",
            "Epoch 00011: val_accuracy did not improve from 0.51055\n",
            "23/23 [==============================] - 0s 11ms/step - loss: 0.9938 - accuracy: 0.5359 - val_loss: 1.0490 - val_accuracy: 0.4515\n",
            "Epoch 12/25\n",
            "22/23 [===========================>..] - ETA: 0s - loss: 0.9801 - accuracy: 0.5455\n",
            "Epoch 00012: val_accuracy did not improve from 0.51055\n",
            "23/23 [==============================] - 0s 12ms/step - loss: 0.9795 - accuracy: 0.5471 - val_loss: 1.0042 - val_accuracy: 0.4557\n",
            "Epoch 13/25\n",
            "22/23 [===========================>..] - ETA: 0s - loss: 0.9652 - accuracy: 0.5369\n",
            "Epoch 00013: val_accuracy did not improve from 0.51055\n",
            "23/23 [==============================] - 0s 11ms/step - loss: 0.9652 - accuracy: 0.5373 - val_loss: 1.0174 - val_accuracy: 0.4177\n",
            "Epoch 14/25\n",
            "21/23 [==========================>...] - ETA: 0s - loss: 0.9607 - accuracy: 0.5268\n",
            "Epoch 00014: val_accuracy did not improve from 0.51055\n",
            "23/23 [==============================] - 0s 12ms/step - loss: 0.9568 - accuracy: 0.5331 - val_loss: 1.0006 - val_accuracy: 0.4684\n",
            "Epoch 15/25\n",
            "22/23 [===========================>..] - ETA: 0s - loss: 0.9348 - accuracy: 0.5497\n",
            "Epoch 00015: val_accuracy did not improve from 0.51055\n",
            "23/23 [==============================] - 0s 11ms/step - loss: 0.9345 - accuracy: 0.5513 - val_loss: 1.0153 - val_accuracy: 0.4641\n",
            "Epoch 16/25\n",
            "23/23 [==============================] - ETA: 0s - loss: 0.9040 - accuracy: 0.5556\n",
            "Epoch 00016: val_accuracy did not improve from 0.51055\n",
            "23/23 [==============================] - 0s 11ms/step - loss: 0.9040 - accuracy: 0.5556 - val_loss: 0.9642 - val_accuracy: 0.4684\n",
            "Epoch 17/25\n",
            "23/23 [==============================] - ETA: 0s - loss: 0.8973 - accuracy: 0.5499\n",
            "Epoch 00017: val_accuracy did not improve from 0.51055\n",
            "23/23 [==============================] - 0s 12ms/step - loss: 0.8973 - accuracy: 0.5499 - val_loss: 0.9546 - val_accuracy: 0.4599\n",
            "Epoch 18/25\n",
            "19/23 [=======================>......] - ETA: 0s - loss: 0.8638 - accuracy: 0.5674\n",
            "Epoch 00018: val_accuracy improved from 0.51055 to 0.58228, saving model to best_weight_scene_mobileNet.h5\n",
            "23/23 [==============================] - 0s 14ms/step - loss: 0.8586 - accuracy: 0.5696 - val_loss: 0.9506 - val_accuracy: 0.5823\n",
            "Epoch 19/25\n",
            "19/23 [=======================>......] - ETA: 0s - loss: 0.8303 - accuracy: 0.5938\n",
            "Epoch 00019: val_accuracy improved from 0.58228 to 0.59916, saving model to best_weight_scene_mobileNet.h5\n",
            "23/23 [==============================] - 0s 14ms/step - loss: 0.8303 - accuracy: 0.5992 - val_loss: 0.9319 - val_accuracy: 0.5992\n",
            "Epoch 20/25\n",
            "23/23 [==============================] - ETA: 0s - loss: 0.8298 - accuracy: 0.6090\n",
            "Epoch 00020: val_accuracy did not improve from 0.59916\n",
            "23/23 [==============================] - 0s 12ms/step - loss: 0.8298 - accuracy: 0.6090 - val_loss: 0.9647 - val_accuracy: 0.5654\n",
            "Epoch 21/25\n",
            "19/23 [=======================>......] - ETA: 0s - loss: 0.8680 - accuracy: 0.5526\n",
            "Epoch 00021: val_accuracy did not improve from 0.59916\n",
            "23/23 [==============================] - 0s 11ms/step - loss: 0.8575 - accuracy: 0.5654 - val_loss: 0.8896 - val_accuracy: 0.5865\n",
            "Epoch 22/25\n",
            "18/23 [======================>.......] - ETA: 0s - loss: 0.7077 - accuracy: 0.6319\n",
            "Epoch 00022: val_accuracy did not improve from 0.59916\n",
            "23/23 [==============================] - 0s 11ms/step - loss: 0.7408 - accuracy: 0.6090 - val_loss: 0.9030 - val_accuracy: 0.5781\n",
            "Epoch 23/25\n",
            "23/23 [==============================] - ETA: 0s - loss: 0.7405 - accuracy: 0.5935\n",
            "Epoch 00023: val_accuracy did not improve from 0.59916\n",
            "23/23 [==============================] - 0s 11ms/step - loss: 0.7405 - accuracy: 0.5935 - val_loss: 0.9266 - val_accuracy: 0.4937\n",
            "Epoch 24/25\n",
            "22/23 [===========================>..] - ETA: 0s - loss: 0.6834 - accuracy: 0.6080\n",
            "Epoch 00024: val_accuracy did not improve from 0.59916\n",
            "23/23 [==============================] - 0s 11ms/step - loss: 0.6829 - accuracy: 0.6076 - val_loss: 1.0136 - val_accuracy: 0.5654\n",
            "Epoch 25/25\n",
            "21/23 [==========================>...] - ETA: 0s - loss: 0.8101 - accuracy: 0.5685\n",
            "Epoch 00025: val_accuracy improved from 0.59916 to 0.62025, saving model to best_weight_scene_mobileNet.h5\n",
            "23/23 [==============================] - 0s 15ms/step - loss: 0.8095 - accuracy: 0.5724 - val_loss: 0.8842 - val_accuracy: 0.6203\n"
          ],
          "name": "stdout"
        }
      ]
    },
    {
      "cell_type": "code",
      "metadata": {
        "colab": {
          "base_uri": "https://localhost:8080/",
          "height": 591
        },
        "id": "aHsC28KgNeYP",
        "outputId": "d991fcb7-e934-46b5-b390-3123c7e06112"
      },
      "source": [
        "import matplotlib.pyplot as plt\n",
        "\n",
        "print(H.history.keys())\n",
        "# summarize history for accuracy\n",
        "plt.plot(H.history['accuracy'])\n",
        "plt.plot(H.history['val_accuracy'])\n",
        "plt.title('model accuracy')\n",
        "plt.ylabel('accuracy')\n",
        "plt.xlabel('epoch')\n",
        "plt.legend(['train', 'test'], loc='upper left')\n",
        "plt.show()\n",
        "# summarize history for loss\n",
        "plt.plot(H.history['loss'])\n",
        "plt.plot(H.history['val_loss'])\n",
        "plt.title('model loss')\n",
        "plt.ylabel('loss')\n",
        "plt.xlabel('epoch')\n",
        "plt.legend(['train', 'test'], loc='upper left')\n",
        "plt.show()"
      ],
      "execution_count": null,
      "outputs": [
        {
          "output_type": "stream",
          "text": [
            "dict_keys(['loss', 'accuracy', 'val_loss', 'val_accuracy'])\n"
          ],
          "name": "stdout"
        },
        {
          "output_type": "display_data",
          "data": {
            "image/png": "[encoded data removed]",
            "text/plain": [
              "<Figure size 432x288 with 1 Axes>"
            ]
          },
          "metadata": {
            "tags": [],
            "needs_background": "light"
          }
        },
        {
          "output_type": "display_data",
          "data": {
            "image/png": "[encoded data removed]",
            "text/plain": [
              "<Figure size 432x288 with 1 Axes>"
            ]
          },
          "metadata": {
            "tags": [],
            "needs_background": "light"
          }
        }
      ]
    },
    {
      "cell_type": "code",
      "metadata": {
        "colab": {
          "base_uri": "https://localhost:8080/"
        },
        "id": "0_ClS-tgNlzD",
        "outputId": "4d2672aa-af73-469c-aa13-053ad1edc2c7"
      },
      "source": [
        "\n",
        "# evaluate the network\n",
        "print(\"[INFO] evaluating network...\")\n",
        "predictions = model.predict(testX, batch_size=32)\n",
        "print(classification_report(testY.argmax(axis=1),\n",
        "\tpredictions.argmax(axis=1), target_names=lb.classes_))"
      ],
      "execution_count": null,
      "outputs": [
        {
          "output_type": "stream",
          "text": [
            "[INFO] evaluating network...\n",
            "WARNING:tensorflow:Model was constructed with shape (None, 12288) for input Tensor(\"flatten_input:0\", shape=(None, 12288), dtype=float32), but it was called on an input with incompatible shape (None, 64, 64, 3).\n",
            "              precision    recall  f1-score   support\n",
            "\n",
            "       coast       0.58      0.83      0.68       101\n",
            "      forest       0.68      0.78      0.73        81\n",
            "     highway       0.00      0.00      0.00        55\n",
            "\n",
            "    accuracy                           0.62       237\n",
            "   macro avg       0.42      0.54      0.47       237\n",
            "weighted avg       0.48      0.62      0.54       237\n",
            "\n"
          ],
          "name": "stdout"
        },
        {
          "output_type": "stream",
          "text": [
            "/usr/local/lib/python3.6/dist-packages/sklearn/metrics/_classification.py:1272: UndefinedMetricWarning: Precision and F-score are ill-defined and being set to 0.0 in labels with no predicted samples. Use `zero_division` parameter to control this behavior.\n",
            "  _warn_prf(average, modifier, msg_start, len(result))\n"
          ],
          "name": "stderr"
        }
      ]
    },
    {
      "cell_type": "code",
      "metadata": {
        "colab": {
          "base_uri": "https://localhost:8080/"
        },
        "id": "sZr7xgVzNtyY",
        "outputId": "b3cfd904-f29b-4c0e-c25b-f99d40248ac3"
      },
      "source": [
        "model.save('model_3scene_python_fix')"
      ],
      "execution_count": null,
      "outputs": [
        {
          "output_type": "stream",
          "text": [
            "WARNING:tensorflow:From /usr/local/lib/python3.6/dist-packages/tensorflow/python/training/tracking/tracking.py:111: Model.state_updates (from tensorflow.python.keras.engine.training) is deprecated and will be removed in a future version.\n",
            "Instructions for updating:\n",
            "This property should not be used in TensorFlow 2.0, as updates are applied automatically.\n",
            "WARNING:tensorflow:From /usr/local/lib/python3.6/dist-packages/tensorflow/python/training/tracking/tracking.py:111: Layer.updates (from tensorflow.python.keras.engine.base_layer) is deprecated and will be removed in a future version.\n",
            "Instructions for updating:\n",
            "This property should not be used in TensorFlow 2.0, as updates are applied automatically.\n",
            "INFO:tensorflow:Assets written to: model_3scene_python_fix/assets\n"
          ],
          "name": "stdout"
        }
      ]
    },
    {
      "cell_type": "code",
      "metadata": {
        "colab": {
          "base_uri": "https://localhost:8080/",
          "height": 269
        },
        "id": "mtjWbWnaPPKi",
        "outputId": "0b491315-1581-4d39-9291-64ab84238422"
      },
      "source": [
        "import cv2\n",
        "import matplotlib.pyplot as plt\n",
        "image1='highway_a866041.jpg'\n",
        "img_array = cv2.imread(image1)\n",
        "plt.imshow(img_array)\n",
        "plt.show()"
      ],
      "execution_count": null,
      "outputs": [
        {
          "output_type": "display_data",
          "data": {
            "image/png": "[encoded data removed]",
            "text/plain": [
              "<Figure size 432x288 with 1 Axes>"
            ]
          },
          "metadata": {
            "tags": [],
            "needs_background": "light"
          }
        }
      ]
    },
    {
      "cell_type": "code",
      "metadata": {
        "colab": {
          "base_uri": "https://localhost:8080/"
        },
        "id": "B5nLK0_WPZdB",
        "outputId": "0ba6d710-7618-4ace-deee-5702d4e5a9b4"
      },
      "source": [
        "image_testing = Image.open('highway_a866041.jpg')\n",
        "image_testing = np.array(image_testing.resize((64, 64))) / 255.0\n",
        "image_testing.shape"
      ],
      "execution_count": null,
      "outputs": [
        {
          "output_type": "execute_result",
          "data": {
            "text/plain": [
              "(64, 64, 3)"
            ]
          },
          "metadata": {
            "tags": []
          },
          "execution_count": 26
        }
      ]
    },
    {
      "cell_type": "code",
      "metadata": {
        "colab": {
          "base_uri": "https://localhost:8080/"
        },
        "id": "6TIt5s2wPlOW",
        "outputId": "7c61fc3d-9d10-4c77-c554-a4f635c26bca"
      },
      "source": [
        "image_testing = np.expand_dims(image_testing, axis=0)\n",
        "print(image_testing.shape)"
      ],
      "execution_count": null,
      "outputs": [
        {
          "output_type": "stream",
          "text": [
            "(1, 64, 64, 3)\n"
          ],
          "name": "stdout"
        }
      ]
    },
    {
      "cell_type": "code",
      "metadata": {
        "colab": {
          "base_uri": "https://localhost:8080/"
        },
        "id": "oXGV2WegR2CM",
        "outputId": "5ae52b09-ae82-4a1c-e6ff-366faafca8b6"
      },
      "source": [
        "output = model.predict(image_testing, 1)\n",
        "print(output)\n",
        "print(lb.classes_[output.argmax(axis=1)])"
      ],
      "execution_count": null,
      "outputs": [
        {
          "output_type": "stream",
          "text": [
            "WARNING:tensorflow:Model was constructed with shape (None, 12288) for input Tensor(\"flatten_input:0\", shape=(None, 12288), dtype=float32), but it was called on an input with incompatible shape (1, 64, 64, 3).\n",
            "[[0.60740435 0.00929087 0.38330483]]\n",
            "['coast']\n"
          ],
          "name": "stdout"
        }
      ]
    }
  ]
}